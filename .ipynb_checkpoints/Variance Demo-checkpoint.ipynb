{
 "cells": [
  {
   "cell_type": "code",
   "execution_count": 1,
   "id": "69a3fda7",
   "metadata": {},
   "outputs": [],
   "source": [
    "#fundamental tools for the game environment model\n",
    "import numpy as np\n",
    "import math\n",
    "import random\n",
    "import itertools\n",
    "\n",
    "# for visualations\n",
    "import matplotlib\n",
    "import matplotlib.pyplot as plt"
   ]
  },
  {
   "cell_type": "code",
   "execution_count": 2,
   "id": "9395e4bb",
   "metadata": {},
   "outputs": [
    {
     "name": "stdout",
     "output_type": "stream",
     "text": [
      "pygame 2.5.1 (SDL 2.28.2, Python 3.11.3)\n",
      "Hello from the pygame community. https://www.pygame.org/contribute.html\n"
     ]
    }
   ],
   "source": [
    "import exploreModel\n",
    "import explore_Viewer\n",
    "from randomchooser import Chooser\n",
    "from exploresims import simulate_explore"
   ]
  },
  {
   "cell_type": "code",
   "execution_count": 3,
   "id": "64abffe3",
   "metadata": {},
   "outputs": [],
   "source": [
    "import multiprocess\n",
    "from launch_async_viewer import launch_viewer"
   ]
  },
  {
   "cell_type": "code",
   "execution_count": 4,
   "id": "252d7cfc",
   "metadata": {},
   "outputs": [],
   "source": [
    "ch = Chooser(5)"
   ]
  },
  {
   "cell_type": "code",
   "execution_count": 5,
   "id": "ecf64232",
   "metadata": {},
   "outputs": [],
   "source": [
    "ch = Chooser(5, [0,15,10,5,0], 10)"
   ]
  },
  {
   "cell_type": "code",
   "execution_count": 6,
   "id": "615c1441",
   "metadata": {},
   "outputs": [],
   "source": [
    "for k in range(35):\n",
    "    ch.get_random_action()"
   ]
  },
  {
   "cell_type": "code",
   "execution_count": 7,
   "id": "a4556637",
   "metadata": {},
   "outputs": [
    {
     "data": {
      "text/plain": [
       "array([3, 1])"
      ]
     },
     "execution_count": 7,
     "metadata": {},
     "output_type": "execute_result"
    }
   ],
   "source": [
    "ch.move_pool"
   ]
  },
  {
   "cell_type": "code",
   "execution_count": 8,
   "id": "9e786805",
   "metadata": {},
   "outputs": [
    {
     "data": {
      "text/plain": [
       "array([0.33333333, 0.66666667])"
      ]
     },
     "execution_count": 8,
     "metadata": {},
     "output_type": "execute_result"
    }
   ],
   "source": [
    "ch.hist"
   ]
  },
  {
   "cell_type": "code",
   "execution_count": 9,
   "id": "2df9fe85",
   "metadata": {},
   "outputs": [],
   "source": [
    "animaqueue = multiprocess.Queue()\n",
    "myviewer = multiprocess.Process(target=launch_viewer, args=[animaqueue])"
   ]
  },
  {
   "cell_type": "code",
   "execution_count": 10,
   "id": "36bb2e76",
   "metadata": {},
   "outputs": [],
   "source": [
    "myviewer.start()"
   ]
  },
  {
   "cell_type": "code",
   "execution_count": 11,
   "id": "4668e8e9",
   "metadata": {},
   "outputs": [],
   "source": [
    "outputs = multiprocess.Queue()"
   ]
  },
  {
   "cell_type": "code",
   "execution_count": 12,
   "id": "92006b98",
   "metadata": {},
   "outputs": [],
   "source": [
    "sim1 = multiprocess.Process(target=simulate_explore, args=[100,100,150, ch, outputs, animaqueue])"
   ]
  },
  {
   "cell_type": "code",
   "execution_count": 13,
   "id": "8ddac320",
   "metadata": {},
   "outputs": [],
   "source": [
    "sim1.start()"
   ]
  },
  {
   "cell_type": "code",
   "execution_count": 14,
   "id": "aa7b9ee7",
   "metadata": {},
   "outputs": [],
   "source": [
    "res = outputs.get()"
   ]
  },
  {
   "cell_type": "code",
   "execution_count": 19,
   "id": "2842539b",
   "metadata": {},
   "outputs": [
    {
     "data": {
      "text/plain": [
       "15.68"
      ]
     },
     "execution_count": 19,
     "metadata": {},
     "output_type": "execute_result"
    }
   ],
   "source": [
    "np.array(res[0]).mean()"
   ]
  },
  {
   "cell_type": "code",
   "execution_count": 20,
   "id": "be8ba568",
   "metadata": {},
   "outputs": [
    {
     "data": {
      "text/plain": [
       "21.466345009858454"
      ]
     },
     "execution_count": 20,
     "metadata": {},
     "output_type": "execute_result"
    }
   ],
   "source": [
    "np.array(res[1]).mean()"
   ]
  },
  {
   "cell_type": "code",
   "execution_count": 21,
   "id": "5c0c04f5",
   "metadata": {},
   "outputs": [
    {
     "data": {
      "text/plain": [
       "<matplotlib.image.AxesImage at 0x203e1532450>"
      ]
     },
     "execution_count": 21,
     "metadata": {},
     "output_type": "execute_result"
    },
    {
     "data": {
      "image/png": "[encoded data removed]",
      "text/plain": [
       "<Figure size 640x480 with 1 Axes>"
      ]
     },
     "metadata": {},
     "output_type": "display_data"
    }
   ],
   "source": [
    "plt.imshow(np.array(res[2]))"
   ]
  },
  {
   "cell_type": "code",
   "execution_count": 24,
   "id": "7d62c3a8",
   "metadata": {},
   "outputs": [],
   "source": [
    "env = exploreModel.exploreGame()\n",
    "qq = multiprocess.Queue()"
   ]
  },
  {
   "cell_type": "code",
   "execution_count": 25,
   "id": "c7d415d7",
   "metadata": {},
   "outputs": [],
   "source": [
    "emap = env.generate_frame()\n",
    "hmap = env.get_trace()"
   ]
  },
  {
   "cell_type": "code",
   "execution_count": 26,
   "id": "f011520d",
   "metadata": {},
   "outputs": [],
   "source": [
    "qq.put((emap, hmap))"
   ]
  },
  {
   "cell_type": "code",
   "execution_count": 27,
   "id": "cd1dc266",
   "metadata": {},
   "outputs": [],
   "source": [
    "p = multiprocess.Process(target=launch_viewer, args=[qq])"
   ]
  },
  {
   "cell_type": "code",
   "execution_count": 28,
   "id": "7f1096b6",
   "metadata": {},
   "outputs": [],
   "source": [
    "p.start()"
   ]
  },
  {
   "cell_type": "code",
   "execution_count": 29,
   "id": "4abfb6f7",
   "metadata": {},
   "outputs": [],
   "source": [
    "wins = 0\n",
    "for k in range(1000000):\n",
    "    env.update(ch.get_random_action())\n",
    "    emap = env.generate_frame()\n",
    "    hmap = env.get_trace()\n",
    "\n",
    "    if qq.empty():\n",
    "        qq.put((emap, hmap))\n",
    "    \n",
    "    if k % 150 == 149:\n",
    "        if env.won:\n",
    "            wins += 1\n",
    "        env.soft_reset()"
   ]
  },
  {
   "cell_type": "code",
   "execution_count": 14,
   "id": "61db1e66",
   "metadata": {},
   "outputs": [
    {
     "data": {
      "text/plain": [
       "930"
      ]
     },
     "execution_count": 14,
     "metadata": {},
     "output_type": "execute_result"
    }
   ],
   "source": [
    "wins"
   ]
  },
  {
   "cell_type": "code",
   "execution_count": 22,
   "id": "033f8591",
   "metadata": {},
   "outputs": [
    {
     "data": {
      "text/plain": [
       "815"
      ]
     },
     "execution_count": 22,
     "metadata": {},
     "output_type": "execute_result"
    }
   ],
   "source": [
    "wins"
   ]
  },
  {
   "cell_type": "code",
   "execution_count": 30,
   "id": "2f7dfee6",
   "metadata": {},
   "outputs": [
    {
     "data": {
      "text/plain": [
       "1021"
      ]
     },
     "execution_count": 30,
     "metadata": {},
     "output_type": "execute_result"
    }
   ],
   "source": [
    "wins"
   ]
  },
  {
   "cell_type": "code",
   "execution_count": 14,
   "id": "cac91a1a",
   "metadata": {},
   "outputs": [],
   "source": [
    "qq.put(\"kill\")"
   ]
  },
  {
   "cell_type": "code",
   "execution_count": 31,
   "id": "a50685ff",
   "metadata": {},
   "outputs": [
    {
     "data": {
      "text/plain": [
       "6666.666666666667"
      ]
     },
     "execution_count": 31,
     "metadata": {},
     "output_type": "execute_result"
    }
   ],
   "source": [
    "1000000/150"
   ]
  },
  {
   "cell_type": "code",
   "execution_count": null,
   "id": "5adae7b3",
   "metadata": {},
   "outputs": [],
   "source": []
  }
 ],
 "metadata": {
  "kernelspec": {
   "display_name": "Python 3 (ipykernel)",
   "language": "python",
   "name": "python3"
  },
  "language_info": {
   "codemirror_mode": {
    "name": "ipython",
    "version": 3
   },
   "file_extension": ".py",
   "mimetype": "text/x-python",
   "name": "python",
   "nbconvert_exporter": "python",
   "pygments_lexer": "ipython3",
   "version": "3.11.3"
  }
 },
 "nbformat": 4,
 "nbformat_minor": 5
}
