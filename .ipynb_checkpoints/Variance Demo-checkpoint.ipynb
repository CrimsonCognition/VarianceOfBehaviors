{
 "cells": [
  {
   "cell_type": "code",
   "execution_count": 1,
   "id": "59e1943d",
   "metadata": {},
   "outputs": [],
   "source": [
    "#fundamental tools for the game environment model\n",
    "import numpy as np\n",
    "import math\n",
    "import random\n",
    "import itertools\n",
    "\n",
    "# for visualations\n",
    "import matplotlib\n",
    "import matplotlib.pyplot as plt"
   ]
  },
  {
   "cell_type": "code",
   "execution_count": 2,
   "id": "9ff2be68",
   "metadata": {},
   "outputs": [],
   "source": [
    "import exploreModel"
   ]
  },
  {
   "cell_type": "code",
   "execution_count": 3,
   "id": "d6518c7d",
   "metadata": {},
   "outputs": [
    {
     "name": "stdout",
     "output_type": "stream",
     "text": [
      "pygame 2.5.1 (SDL 2.28.2, Python 3.11.3)\n",
      "Hello from the pygame community. https://www.pygame.org/contribute.html\n"
     ]
    },
    {
     "data": {
      "text/plain": [
       "(5, 0)"
      ]
     },
     "execution_count": 3,
     "metadata": {},
     "output_type": "execute_result"
    }
   ],
   "source": [
    "import pygame\n",
    "pygame.init()"
   ]
  },
  {
   "cell_type": "code",
   "execution_count": 4,
   "id": "9d389e87",
   "metadata": {},
   "outputs": [],
   "source": [
    "test = np.arange(100).reshape(10,10)\n",
    "test = test/test.max()*255\n",
    "test = test.astype(\"int\")"
   ]
  },
  {
   "cell_type": "code",
   "execution_count": 5,
   "id": "a972dc3c",
   "metadata": {},
   "outputs": [],
   "source": [
    "env = exploreModel.exploreGame()"
   ]
  },
  {
   "cell_type": "code",
   "execution_count": 6,
   "id": "ff190fc7",
   "metadata": {},
   "outputs": [],
   "source": [
    "fr = env.generate_frame()"
   ]
  },
  {
   "cell_type": "code",
   "execution_count": 7,
   "id": "6618e214",
   "metadata": {},
   "outputs": [
    {
     "data": {
      "text/plain": [
       "array([[  0., 255.,   0.],\n",
       "       [  0.,   0.,   0.],\n",
       "       [  0.,   0.,   0.],\n",
       "       ...,\n",
       "       [  0.,   0.,   0.],\n",
       "       [  0.,   0.,   0.],\n",
       "       [  0.,   0.,   0.]])"
      ]
     },
     "execution_count": 7,
     "metadata": {},
     "output_type": "execute_result"
    }
   ],
   "source": [
    "fr.reshape(-1,3)"
   ]
  },
  {
   "cell_type": "code",
   "execution_count": 10,
   "id": "081db3f7",
   "metadata": {},
   "outputs": [],
   "source": []
  },
  {
   "cell_type": "code",
   "execution_count": null,
   "id": "0aa31f4f",
   "metadata": {},
   "outputs": [],
   "source": []
  }
 ],
 "metadata": {
  "kernelspec": {
   "display_name": "Python 3 (ipykernel)",
   "language": "python",
   "name": "python3"
  },
  "language_info": {
   "codemirror_mode": {
    "name": "ipython",
    "version": 3
   },
   "file_extension": ".py",
   "mimetype": "text/x-python",
   "name": "python",
   "nbconvert_exporter": "python",
   "pygments_lexer": "ipython3",
   "version": "3.11.3"
  }
 },
 "nbformat": 4,
 "nbformat_minor": 5
}
