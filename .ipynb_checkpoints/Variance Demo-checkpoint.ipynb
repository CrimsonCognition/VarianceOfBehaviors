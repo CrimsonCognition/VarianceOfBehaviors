{
 "cells": [
  {
   "cell_type": "code",
   "execution_count": 1,
   "id": "5c11e265",
   "metadata": {},
   "outputs": [],
   "source": [
    "#fundamental tools for the game environment model\n",
    "import numpy as np\n",
    "import math\n",
    "import random\n",
    "\n",
    "# for visualations\n",
    "import matplotlib\n",
    "import matplotlib.pyplot as plt"
   ]
  },
  {
   "cell_type": "code",
   "execution_count": 2,
   "id": "7d9506d4",
   "metadata": {},
   "outputs": [],
   "source": [
    "import exploreModel"
   ]
  },
  {
   "cell_type": "code",
   "execution_count": null,
   "id": "7d994594",
   "metadata": {},
   "outputs": [],
   "source": []
  },
  {
   "cell_type": "code",
   "execution_count": 3,
   "id": "a0f70455",
   "metadata": {},
   "outputs": [
    {
     "name": "stdout",
     "output_type": "stream",
     "text": [
      "pygame 2.5.1 (SDL 2.28.2, Python 3.11.3)\n",
      "Hello from the pygame community. https://www.pygame.org/contribute.html\n"
     ]
    },
    {
     "data": {
      "text/plain": [
       "(5, 0)"
      ]
     },
     "execution_count": 3,
     "metadata": {},
     "output_type": "execute_result"
    }
   ],
   "source": [
    "import pygame\n",
    "pygame.init()"
   ]
  },
  {
   "cell_type": "code",
   "execution_count": 23,
   "id": "8a9a71d8",
   "metadata": {},
   "outputs": [],
   "source": [
    "screen_width = 400\n",
    "screen_height = 400\n",
    "\n",
    "size = 10\n",
    "\n",
    "rect_width = screen_width//size\n",
    "rect_height = screen_height//size\n",
    "\n",
    "grid_width = 10 # keep me even\n",
    "\n",
    "rects = []\n",
    "grid_lines = []\n",
    "\n",
    "for k in range(size):\n",
    "    grid_lines.append(pygame.Rect(0, (k+1)*rect_height - grid_width//2, screen_width,grid_width)) # horizontal grid lines\n",
    "    grid_lines.append(pygame.Rect((k+1)*rect_width - grid_width//2, 0, grid_width, screen_height)) # vertical grid lines\n",
    "\n",
    "for i in range(size**2):\n",
    "    rects.append(pygame.Rect((i%size)*rect_width,(i//size)*rect_height,rect_width,rect_height))\n",
    "    \n",
    "\n",
    "screen = pygame.display.set_mode((screen_width, screen_height))\n",
    "\n",
    "run = True\n",
    "while run:\n",
    "    \n",
    "    for rect in rects:\n",
    "        pygame.draw.rect(screen, (128, 128, 0), rect)\n",
    "    \n",
    "    for line in grid_lines:\n",
    "        pygame.draw.rect(screen, (64, 96, 96), line)\n",
    "    \n",
    "    for event in pygame.event.get():\n",
    "        if event.type == pygame.QUIT:\n",
    "            run = False\n",
    "    pygame.display.update()\n",
    "pygame.quit()"
   ]
  },
  {
   "cell_type": "code",
   "execution_count": null,
   "id": "0309cf3b",
   "metadata": {},
   "outputs": [],
   "source": []
  }
 ],
 "metadata": {
  "kernelspec": {
   "display_name": "Python 3 (ipykernel)",
   "language": "python",
   "name": "python3"
  },
  "language_info": {
   "codemirror_mode": {
    "name": "ipython",
    "version": 3
   },
   "file_extension": ".py",
   "mimetype": "text/x-python",
   "name": "python",
   "nbconvert_exporter": "python",
   "pygments_lexer": "ipython3",
   "version": "3.11.3"
  }
 },
 "nbformat": 4,
 "nbformat_minor": 5
}
