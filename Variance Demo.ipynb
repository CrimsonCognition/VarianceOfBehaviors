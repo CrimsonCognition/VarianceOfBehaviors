{
 "cells": [
  {
   "cell_type": "code",
   "execution_count": 1,
   "id": "2a6e1b6c",
   "metadata": {},
   "outputs": [],
   "source": [
    "#fundamental tools for the game environment model\n",
    "import numpy as np\n",
    "import math\n",
    "import random\n",
    "import itertools\n",
    "\n",
    "# for visualations\n",
    "import matplotlib\n",
    "import matplotlib.pyplot as plt"
   ]
  },
  {
   "cell_type": "code",
   "execution_count": 2,
   "id": "7d48f615",
   "metadata": {},
   "outputs": [
    {
     "name": "stdout",
     "output_type": "stream",
     "text": [
      "pygame 2.5.1 (SDL 2.28.2, Python 3.11.3)\n",
      "Hello from the pygame community. https://www.pygame.org/contribute.html\n"
     ]
    }
   ],
   "source": [
    "import exploreModel\n",
    "import explore_Viewer\n",
    "from randomchooser import Chooser"
   ]
  },
  {
   "cell_type": "code",
   "execution_count": 3,
   "id": "17b45cc8",
   "metadata": {},
   "outputs": [],
   "source": [
    "import multiprocess\n",
    "from launch_async_viewer import launch_viewer"
   ]
  },
  {
   "cell_type": "code",
   "execution_count": 15,
   "id": "bcb5a379",
   "metadata": {},
   "outputs": [],
   "source": [
    "ch = Chooser(5)"
   ]
  },
  {
   "cell_type": "code",
   "execution_count": 23,
   "id": "b4ebb586",
   "metadata": {},
   "outputs": [],
   "source": [
    "ch = Chooser(5, [0,15,10,5,0], 10)"
   ]
  },
  {
   "cell_type": "code",
   "execution_count": 5,
   "id": "5ec2edd0",
   "metadata": {},
   "outputs": [],
   "source": [
    "for k in range(35):\n",
    "    ch.get_random_action()"
   ]
  },
  {
   "cell_type": "code",
   "execution_count": 6,
   "id": "2366929c",
   "metadata": {},
   "outputs": [
    {
     "data": {
      "text/plain": [
       "array([0, 2])"
      ]
     },
     "execution_count": 6,
     "metadata": {},
     "output_type": "execute_result"
    }
   ],
   "source": [
    "ch.move_pool"
   ]
  },
  {
   "cell_type": "code",
   "execution_count": 7,
   "id": "560f768e",
   "metadata": {},
   "outputs": [
    {
     "data": {
      "text/plain": [
       "array([0.75, 0.25])"
      ]
     },
     "execution_count": 7,
     "metadata": {},
     "output_type": "execute_result"
    }
   ],
   "source": [
    "ch.hist"
   ]
  },
  {
   "cell_type": "code",
   "execution_count": 24,
   "id": "159d70c5",
   "metadata": {},
   "outputs": [],
   "source": [
    "env = exploreModel.exploreGame()\n",
    "qq = multiprocess.Queue()"
   ]
  },
  {
   "cell_type": "code",
   "execution_count": 25,
   "id": "3dc6554f",
   "metadata": {},
   "outputs": [],
   "source": [
    "emap = env.generate_frame()\n",
    "hmap = env.get_trace()"
   ]
  },
  {
   "cell_type": "code",
   "execution_count": 26,
   "id": "94f70dad",
   "metadata": {},
   "outputs": [],
   "source": [
    "qq.put((emap, hmap))"
   ]
  },
  {
   "cell_type": "code",
   "execution_count": 27,
   "id": "726c702a",
   "metadata": {},
   "outputs": [],
   "source": [
    "p = multiprocess.Process(target=launch_viewer, args=[qq])"
   ]
  },
  {
   "cell_type": "code",
   "execution_count": 28,
   "id": "3ac9413f",
   "metadata": {},
   "outputs": [],
   "source": [
    "p.start()"
   ]
  },
  {
   "cell_type": "code",
   "execution_count": 29,
   "id": "6a932381",
   "metadata": {},
   "outputs": [],
   "source": [
    "wins = 0\n",
    "for k in range(1000000):\n",
    "    env.update(ch.get_random_action())\n",
    "    emap = env.generate_frame()\n",
    "    hmap = env.get_trace()\n",
    "\n",
    "    if qq.empty():\n",
    "        qq.put((emap, hmap))\n",
    "    \n",
    "    if k % 150 == 149:\n",
    "        if env.won:\n",
    "            wins += 1\n",
    "        env.soft_reset()"
   ]
  },
  {
   "cell_type": "code",
   "execution_count": 14,
   "id": "468a4956",
   "metadata": {},
   "outputs": [
    {
     "data": {
      "text/plain": [
       "930"
      ]
     },
     "execution_count": 14,
     "metadata": {},
     "output_type": "execute_result"
    }
   ],
   "source": [
    "wins"
   ]
  },
  {
   "cell_type": "code",
   "execution_count": 22,
   "id": "6aa8abfa",
   "metadata": {},
   "outputs": [
    {
     "data": {
      "text/plain": [
       "815"
      ]
     },
     "execution_count": 22,
     "metadata": {},
     "output_type": "execute_result"
    }
   ],
   "source": [
    "wins"
   ]
  },
  {
   "cell_type": "code",
   "execution_count": 30,
   "id": "fe8cca88",
   "metadata": {},
   "outputs": [
    {
     "data": {
      "text/plain": [
       "1021"
      ]
     },
     "execution_count": 30,
     "metadata": {},
     "output_type": "execute_result"
    }
   ],
   "source": [
    "wins"
   ]
  },
  {
   "cell_type": "code",
   "execution_count": 14,
   "id": "87094860",
   "metadata": {},
   "outputs": [],
   "source": [
    "qq.put(\"kill\")"
   ]
  },
  {
   "cell_type": "code",
   "execution_count": 31,
   "id": "d10e863f",
   "metadata": {},
   "outputs": [
    {
     "data": {
      "text/plain": [
       "6666.666666666667"
      ]
     },
     "execution_count": 31,
     "metadata": {},
     "output_type": "execute_result"
    }
   ],
   "source": [
    "1000000/150"
   ]
  },
  {
   "cell_type": "code",
   "execution_count": null,
   "id": "c5026678",
   "metadata": {},
   "outputs": [],
   "source": []
  }
 ],
 "metadata": {
  "kernelspec": {
   "display_name": "Python 3 (ipykernel)",
   "language": "python",
   "name": "python3"
  },
  "language_info": {
   "codemirror_mode": {
    "name": "ipython",
    "version": 3
   },
   "file_extension": ".py",
   "mimetype": "text/x-python",
   "name": "python",
   "nbconvert_exporter": "python",
   "pygments_lexer": "ipython3",
   "version": "3.11.3"
  }
 },
 "nbformat": 4,
 "nbformat_minor": 5
}
