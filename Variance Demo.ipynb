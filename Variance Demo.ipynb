{
 "cells": [
  {
   "cell_type": "code",
   "execution_count": 1,
   "id": "41d14d86",
   "metadata": {},
   "outputs": [],
   "source": [
    "#fundamental tools for the game environment model\n",
    "import numpy as np\n",
    "import math\n",
    "import random\n",
    "\n",
    "# for visualations\n",
    "import matplotlib\n",
    "import matplotlib.pyplot as plt"
   ]
  },
  {
   "cell_type": "code",
   "execution_count": 2,
   "id": "b8c476b7",
   "metadata": {},
   "outputs": [],
   "source": [
    "import exploreModel"
   ]
  },
  {
   "cell_type": "code",
   "execution_count": null,
   "id": "0b606df0",
   "metadata": {},
   "outputs": [],
   "source": []
  },
  {
   "cell_type": "code",
   "execution_count": null,
   "id": "02cdb6fd",
   "metadata": {},
   "outputs": [],
   "source": [
    "import pygame\n",
    "pygame.init()"
   ]
  },
  {
   "cell_type": "code",
   "execution_count": null,
   "id": "e6c20143",
   "metadata": {},
   "outputs": [],
   "source": [
    "screen_width = 405\n",
    "screen_height = 405\n",
    "\n",
    "screen = pygame.display.set_mode((screen_width, screen_height))\n",
    "\n",
    "run = True\n",
    "while run:\n",
    "   for event in pygame.event.get():\n",
    "        if event.type == pygame.QUIT:\n",
    "            run = False\n",
    "pygame.quit()"
   ]
  }
 ],
 "metadata": {
  "kernelspec": {
   "display_name": "Python 3 (ipykernel)",
   "language": "python",
   "name": "python3"
  },
  "language_info": {
   "codemirror_mode": {
    "name": "ipython",
    "version": 3
   },
   "file_extension": ".py",
   "mimetype": "text/x-python",
   "name": "python",
   "nbconvert_exporter": "python",
   "pygments_lexer": "ipython3",
   "version": "3.11.3"
  }
 },
 "nbformat": 4,
 "nbformat_minor": 5
}
