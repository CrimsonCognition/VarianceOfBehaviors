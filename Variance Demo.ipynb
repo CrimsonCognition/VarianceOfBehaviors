{
 "cells": [
  {
   "cell_type": "code",
   "execution_count": 1,
   "id": "c64ac957",
   "metadata": {},
   "outputs": [],
   "source": [
    "#fundamental tools for the game environment model\n",
    "import numpy as np\n",
    "import math\n",
    "import random\n",
    "import itertools\n",
    "\n",
    "# for visualations\n",
    "import matplotlib\n",
    "import matplotlib.pyplot as plt"
   ]
  },
  {
   "cell_type": "code",
   "execution_count": 2,
   "id": "2b09f533",
   "metadata": {},
   "outputs": [
    {
     "name": "stdout",
     "output_type": "stream",
     "text": [
      "pygame 2.5.1 (SDL 2.28.2, Python 3.11.3)\n",
      "Hello from the pygame community. https://www.pygame.org/contribute.html\n"
     ]
    }
   ],
   "source": [
    "import exploreModel\n",
    "import explore_Viewer"
   ]
  },
  {
   "cell_type": "code",
   "execution_count": 3,
   "id": "82a0e48d",
   "metadata": {},
   "outputs": [],
   "source": [
    "import multiprocess\n",
    "from launch_async_viewer import launch_viewer"
   ]
  },
  {
   "cell_type": "code",
   "execution_count": 4,
   "id": "94d37b76",
   "metadata": {},
   "outputs": [],
   "source": [
    "env = exploreModel.exploreGame()\n",
    "qq = multiprocess.Queue()"
   ]
  },
  {
   "cell_type": "code",
   "execution_count": 5,
   "id": "7484387e",
   "metadata": {},
   "outputs": [],
   "source": [
    "emap = env.generate_frame()\n",
    "hmap = env.get_trace()"
   ]
  },
  {
   "cell_type": "code",
   "execution_count": 6,
   "id": "0615c742",
   "metadata": {},
   "outputs": [],
   "source": [
    "qq.put(emap)\n",
    "qq.put(hmap)"
   ]
  },
  {
   "cell_type": "code",
   "execution_count": 7,
   "id": "4858d196",
   "metadata": {},
   "outputs": [],
   "source": [
    "p = multiprocess.Process(target=launch_viewer, args=[qq])"
   ]
  },
  {
   "cell_type": "code",
   "execution_count": 8,
   "id": "a14f06e2",
   "metadata": {},
   "outputs": [],
   "source": [
    "p.start()"
   ]
  },
  {
   "cell_type": "code",
   "execution_count": 9,
   "id": "71a5542c",
   "metadata": {},
   "outputs": [],
   "source": [
    "for k in range(1000000):\n",
    "    env.update(np.random.choice(5))\n",
    "    emap = env.generate_frame()\n",
    "    hmap = env.get_trace()\n",
    "\n",
    "    if qq.empty():\n",
    "        qq.put(emap)\n",
    "        qq.put(hmap)\n",
    "    \n",
    "    if k % 150 == 149:\n",
    "        env.soft_reset()"
   ]
  },
  {
   "cell_type": "code",
   "execution_count": null,
   "id": "b0db37a3",
   "metadata": {},
   "outputs": [],
   "source": []
  }
 ],
 "metadata": {
  "kernelspec": {
   "display_name": "Python 3 (ipykernel)",
   "language": "python",
   "name": "python3"
  },
  "language_info": {
   "codemirror_mode": {
    "name": "ipython",
    "version": 3
   },
   "file_extension": ".py",
   "mimetype": "text/x-python",
   "name": "python",
   "nbconvert_exporter": "python",
   "pygments_lexer": "ipython3",
   "version": "3.11.3"
  }
 },
 "nbformat": 4,
 "nbformat_minor": 5
}
