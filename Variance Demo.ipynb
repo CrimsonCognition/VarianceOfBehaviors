{
 "cells": [
  {
   "cell_type": "code",
   "execution_count": 1,
   "id": "16688008",
   "metadata": {},
   "outputs": [],
   "source": [
    "#fundamental tools for the game environment model\n",
    "import numpy as np\n",
    "import math\n",
    "import random\n",
    "\n",
    "# for visualations\n",
    "import matplotlib\n",
    "import matplotlib.pyplot as plt"
   ]
  },
  {
   "cell_type": "code",
   "execution_count": 4,
   "id": "6e2d34e1",
   "metadata": {},
   "outputs": [],
   "source": [
    "class game:\n",
    "    def __init__(self, size=21):\n",
    "        \n",
    "        if size > 101:\n",
    "            size = 101\n",
    "        elif size % 2 == 0:\n",
    "            size += 1\n",
    "        if size < 11:\n",
    "            size = 11\n",
    "        self.size = int(size)\n",
    "        self.board = np.zeros((size, size))\n",
    "        self.agent = [int((size -1)/2), int((size -1)/2)] # given size must be odd, this places the player in the center\n",
    "        self.goal = [0, 0]\n",
    "\n",
    "\n",
    "    def update(self, action):\n",
    "        if action == 1: # simple switch to encode actions to movement, collides with invisible wall if on boundary\n",
    "            self.agent[0] = max(0, self.agent[0] - 1) #up\n",
    "        elif action == 2:\n",
    "            self.agent[0] = min(self.size-1, self.agent[0] + 1) #down\n",
    "        elif action == 3:\n",
    "            self.agent[1] = max(0, self.agent[1] - 1) #left\n",
    "        elif action == 4:\n",
    "            self.agent[1] = min(self.size-1, self.agent[1] + 1) # right\n",
    "        \n",
    "        # if action is 0 = do nothing\n",
    "    def generate_frame(self):\n",
    "        img = np.zeros((self.size, self.size, 3)) # rgb stack\n",
    "        img[self.agent[0], self.agent[1]] = [0, 0, 255]\n",
    "        img[self.goal[0], self.goal[1]] = [0, 255, 0]\n",
    "        return img\n",
    "    \n",
    "    def draw(self):\n",
    "        plt.imshow(self.generate_frame().astype(\"int\"))"
   ]
  },
  {
   "cell_type": "code",
   "execution_count": null,
   "id": "161b9190",
   "metadata": {},
   "outputs": [],
   "source": []
  }
 ],
 "metadata": {
  "kernelspec": {
   "display_name": "Python 3 (ipykernel)",
   "language": "python",
   "name": "python3"
  },
  "language_info": {
   "codemirror_mode": {
    "name": "ipython",
    "version": 3
   },
   "file_extension": ".py",
   "mimetype": "text/x-python",
   "name": "python",
   "nbconvert_exporter": "python",
   "pygments_lexer": "ipython3",
   "version": "3.11.3"
  }
 },
 "nbformat": 4,
 "nbformat_minor": 5
}
