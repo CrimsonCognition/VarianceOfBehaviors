{
 "cells": [
  {
   "cell_type": "code",
   "execution_count": 1,
   "id": "86174fe3",
   "metadata": {},
   "outputs": [],
   "source": [
    "#fundamental tools for the game environment model\n",
    "import numpy as np\n",
    "import multiprocess\n",
    "from multiprocess import Process, Queue, Semaphore, Lock\n",
    "import time\n",
    "import random\n",
    "\n",
    "# for visualations\n",
    "import matplotlib.pyplot as plt"
   ]
  },
  {
   "cell_type": "code",
   "execution_count": 2,
   "id": "77b444a5",
   "metadata": {},
   "outputs": [
    {
     "name": "stdout",
     "output_type": "stream",
     "text": [
      "pygame 2.5.1 (SDL 2.28.2, Python 3.11.3)\n",
      "Hello from the pygame community. https://www.pygame.org/contribute.html\n"
     ]
    }
   ],
   "source": [
    "from randomchooser import Chooser\n",
    "from exploresims import simulate_explore, sim_1, demo_1\n",
    "import explore"
   ]
  },
  {
   "cell_type": "markdown",
   "id": "1add8d0d",
   "metadata": {},
   "source": [
    "When training a Reinforcement Learning (RL) model using the Bellman Equationor or Temporal Difference and discrete actions, it is overwhelmingly common to both emphasize the importance of input/action variance and to control output variance.\n",
    "\n",
    "One is far more likely to encounter discussion, advice, and research pretaining to the controlling of the variance in the outputs of a system. This is the so called Variance or Bias Tradeoff. The propbelm here is of course the repetative use of the term Variance, but given its statistical signifagance it is mostly unavoidable.\n",
    "\n",
    "This discussion and its accompanying demonstrations are focused on the other side of the spectrum. The variance of the expereinces provided to the model during training. How actions are selected and its impact on model convergence, and potentially overal policy quality.\n",
    "\n",
    "For simplicity of the demonstrations, we shall focus our considerations to RL models most similar to DQN models utilizing something mathematically resembaling the Epsilon Greey Strategy and Expereince Replay Memory in line with Bellman Equation based reward optimizations (ie Deep Reinforcement Learning / Deep Q-Learning).\n",
    "\n",
    "Note this restriction is arbitrary and simply serves to limit the scope of the demonstration, to keep things acesible, apologies to the more advanced reader."
   ]
  },
  {
   "cell_type": "markdown",
   "id": "33b298bb",
   "metadata": {},
   "source": [
    "Unlike the plethera of sources that discuss the Variance Bias Tradeoff of outputs, there are far less discussions on maximizing/minimizing the variance of actions selected by the model during its explorationary phases. It is quite the norm for texts, tutorials, examples, and the like to simply select a uniform distribution, justify it as being mathematically the highest variance, and therefore the least biased towards any one action type for the model to explore.\n",
    "\n",
    "This is fine in theory, it feels intuitive, however this trend should not go unchallenged simply for its face value.\n",
    "\n",
    "The reasoning here is that we want high variance in the random actions selected during exploration. The point is we want the model, for a time, to make entirely random moves. These moves should not \"prefer\" any one action and build a stored memeory of expereinces. Then we slowly allow the model to take its own actions and converge on some strategy. This is the fundamental idea behind the Epsilon Greedy strategy.\n",
    "\n",
    "High Variance of the random selection ensures a diverse set of expereirences and the uniform nature of the distribution prevents bias in examples. This is why the commmon assumption is so intuitive and is rarely strayed from, or challenged."
   ]
  },
  {
   "cell_type": "markdown",
   "id": "b5c8e3fd",
   "metadata": {},
   "source": [
    "To avoid this from being an endless drone, lets dip our toes in and  see some demonstrations and other visualizations. To this end I have put together a small game, called Explore. It is like a simple maze game, where an agent, or player, is represented bya blue square and must navigate to the exit or goal, represented by the green square.\n",
    "There may be some number of grey walls obstructing the agent's path, but a path to the goal will always exist.\n",
    "The agent may only choose to move up, down, left, right, or do nothing.\n",
    "\n",
    "For visualization purposes the animation includes a trace or heatmap of the number of times a square has been visited. This matrix is then normalized sucht hat the most visited square is always full white, and unvisited squares are fully black.\n",
    "Please run the next cell and observe this first agent \"play\". I won't mention what algorithm may be at play here, yet, but know the moves are entirely random.\n",
    "10 games will be simulated, up to 80 moves each. The trace will be totaled over all 10 games."
   ]
  },
  {
   "cell_type": "code",
   "execution_count": 5,
   "id": "c8518076",
   "metadata": {},
   "outputs": [],
   "source": [
    "demo_1()"
   ]
  },
  {
   "cell_type": "code",
   "execution_count": 3,
   "id": "9a0a5850",
   "metadata": {},
   "outputs": [],
   "source": [
    "max_processors = min(8, max(1, multiprocess.cpu_count()//2))\n",
    "#Game params\n",
    "game_size = 11\n",
    "use_maze = False\n",
    "use_exclusion = False\n",
    "use_noise_boundary = 2\n",
    "game_sparsity = .8\n",
    "\n",
    "game_args = [game_size, use_maze, use_exclusion, use_noise_boundary, game_sparsity]\n",
    "\n",
    "game_window_size = 100\n",
    "game_window_framerate = 60\n",
    "\n",
    "window_args = [game_window_size, game_window_framerate]\n"
   ]
  },
  {
   "cell_type": "code",
   "execution_count": 4,
   "id": "2e04497c",
   "metadata": {},
   "outputs": [
    {
     "data": {
      "image/png": "[encoded data removed]",
      "text/plain": [
       "<Figure size 640x480 with 1 Axes>"
      ]
     },
     "metadata": {},
     "output_type": "display_data"
    }
   ],
   "source": [
    "game = explore.ExploreGame()\n",
    "game.draw()"
   ]
  },
  {
   "cell_type": "code",
   "execution_count": 5,
   "id": "2c72824e",
   "metadata": {},
   "outputs": [
    {
     "data": {
      "text/plain": [
       "5"
      ]
     },
     "execution_count": 5,
     "metadata": {},
     "output_type": "execute_result"
    }
   ],
   "source": [
    "choosers = []\n",
    "choosers.append(Chooser(5))\n",
    "if False:\n",
    "    for i in range(3, 13):\n",
    "        choosers.append(Chooser(5, [0,10,7.5,5,0], i))\n",
    "    for i in range(3, 13):\n",
    "        choosers.append(Chooser(5, [10,10,10,10,10], i))\n",
    "    for i in range(3, 13):\n",
    "        choosers.append(Chooser(5, [1,10,10,10,0], i))\n",
    "else:\n",
    "    choosers.append(Chooser(5, [0, 10, 7.5, 5, 0], 6))\n",
    "    choosers.append(Chooser(5, [0, 10, 7.5, 5, 0], 4))\n",
    "    choosers.append(Chooser(5, [0, 10, 7.5, 5, 0], 5))\n",
    "    choosers.append(Chooser(5, [1, 10, 10, 10, 0], 7))\n",
    "len(choosers)"
   ]
  },
  {
   "cell_type": "code",
   "execution_count": 6,
   "id": "19918366",
   "metadata": {},
   "outputs": [],
   "source": [
    "out = sim_1(choosers, samples=100, games=10, num_process=8, num_column=3, env_args=game_args, window_args=window_args)"
   ]
  },
  {
   "cell_type": "code",
   "execution_count": 7,
   "id": "b1f03cfe",
   "metadata": {},
   "outputs": [],
   "source": [
    "results = out"
   ]
  },
  {
   "cell_type": "code",
   "execution_count": 8,
   "id": "0dd38b5e",
   "metadata": {},
   "outputs": [],
   "source": [
    "for k in range(len(results)):\n",
    "    max_winrate = 0\n",
    "    pos = 0\n",
    "    for i in range(k, len(results)):\n",
    "        if results[i][2][0] > max_winrate:\n",
    "            max_winrate = results[i][2][0]\n",
    "            pos = i\n",
    "    temp = results[k]\n",
    "    results[k] = results[pos]\n",
    "    results[pos] = temp"
   ]
  },
  {
   "cell_type": "code",
   "execution_count": 9,
   "id": "7effe7bc",
   "metadata": {},
   "outputs": [
    {
     "name": "stdout",
     "output_type": "stream",
     "text": [
      "0.06\n",
      "0.04\n",
      "0.03\n",
      "0.02\n",
      "0.02\n"
     ]
    }
   ],
   "source": [
    "for i in range(len(results)):\n",
    "    print(results[i][2][0])"
   ]
  },
  {
   "cell_type": "code",
   "execution_count": 53,
   "id": "bf74536a",
   "metadata": {},
   "outputs": [],
   "source": [
    "weights = []\n",
    "durations = []\n",
    "win_data = []\n",
    "stdev_data = []\n",
    "trace_averages = []\n",
    "for result in results:\n",
    "    weights.append(result[0])\n",
    "    durations.append(result[1])\n",
    "    win_data.append(result[2])\n",
    "    stdev_data.append(result[3])\n",
    "    trace_averages.append(result[4])"
   ]
  },
  {
   "cell_type": "code",
   "execution_count": 54,
   "id": "2a53d9ee",
   "metadata": {
    "scrolled": true
   },
   "outputs": [
    {
     "name": "stdout",
     "output_type": "stream",
     "text": [
      "12 [0, 10, 7.5, 5, 0] 0.236 0.0149  <-->  0.2211  -  0.2509\n",
      "9 [0, 10, 7.5, 5, 0] 0.235 0.0152  <-->  0.2198  -  0.2502\n",
      "9 [1, 10, 10, 10, 0] 0.235 0.0147  <-->  0.2203  -  0.2497\n",
      "11 [0, 10, 7.5, 5, 0] 0.23 0.0145  <-->  0.2155  -  0.2445\n",
      "8 [0, 10, 7.5, 5, 0] 0.226 0.0158  <-->  0.2102  -  0.2418\n",
      "7 [0, 10, 7.5, 5, 0] 0.224 0.0153  <-->  0.2087  -  0.2393\n",
      "6 [0, 10, 7.5, 5, 0] 0.222 0.0147  <-->  0.2073  -  0.2367\n",
      "10 [0, 10, 7.5, 5, 0] 0.216 0.0149  <-->  0.2011  -  0.2309\n",
      "12 [1, 10, 10, 10, 0] 0.212 0.0154  <-->  0.1966  -  0.2274\n",
      "10 [1, 10, 10, 10, 0] 0.21 0.0139  <-->  0.1961  -  0.2239\n",
      "11 [1, 10, 10, 10, 0] 0.208 0.0147  <-->  0.1933  -  0.2227\n",
      "5 [0, 10, 7.5, 5, 0] 0.208 0.0142  <-->  0.1938  -  0.2222\n",
      "7 [1, 10, 10, 10, 0] 0.204 0.0142  <-->  0.1898  -  0.2182\n",
      "8 [1, 10, 10, 10, 0] 0.203 0.0139  <-->  0.1891  -  0.2169\n",
      "12 [10, 10, 10, 10, 10] 0.2 0.014  <-->  0.186  -  0.214\n",
      "9 [10, 10, 10, 10, 10] 0.198 0.014  <-->  0.184  -  0.212\n",
      "11 [10, 10, 10, 10, 10] 0.196 0.0143  <-->  0.1817  -  0.2103\n",
      "7 [10, 10, 10, 10, 10] 0.196 0.0135  <-->  0.1825  -  0.2095\n",
      "6 [1, 10, 10, 10, 0] 0.188 0.0136  <-->  0.1744  -  0.2016\n",
      "4 [10, 10, 10, 10, 10] 0.187 0.0138  <-->  0.1732  -  0.2008\n",
      "4 [0, 10, 7.5, 5, 0] 0.186 0.0136  <-->  0.1724  -  0.1996\n",
      "5 [1, 10, 10, 10, 0] 0.186 0.0139  <-->  0.1721  -  0.1999\n",
      "8 [10, 10, 10, 10, 10] 0.185 0.0131  <-->  0.1719  -  0.1981\n",
      "6 [10, 10, 10, 10, 10] 0.185 0.0134  <-->  0.1716  -  0.1984\n",
      "10 [10, 10, 10, 10, 10] 0.184 0.0136  <-->  0.1704  -  0.1976\n",
      "5 [10, 10, 10, 10, 10] 0.177 0.0135  <-->  0.1635  -  0.1905\n",
      "4 [1, 10, 10, 10, 0] 0.174 0.0128  <-->  0.1612  -  0.1868\n",
      "3 [10, 10, 10, 10, 10] 0.162 0.0126  <-->  0.1494  -  0.1746\n",
      "3 [0, 10, 7.5, 5, 0] 0.149 0.0127  <-->  0.1363  -  0.1617\n",
      "3 [1, 10, 10, 10, 0] 0.127 0.0114  <-->  0.1156  -  0.1384\n",
      "-1 None 0.114 0.0107  <-->  0.1033  -  0.1247\n"
     ]
    }
   ],
   "source": [
    "for (w, d, r) in zip(weights, durations, win_data):\n",
    "    print(d, w, f\"{r[0]:.4}\", f\"{r[2]:.3}\", \" <--> \", f\"{r[0] - r[2]:.4}\", \" - \", f\"{r[0] + r[2]:.4}\")"
   ]
  },
  {
   "cell_type": "code",
   "execution_count": null,
   "id": "ce2f4b8b",
   "metadata": {},
   "outputs": [],
   "source": []
  },
  {
   "cell_type": "code",
   "execution_count": 13,
   "id": "eff635c3",
   "metadata": {},
   "outputs": [
    {
     "data": {
      "text/plain": [
       "<matplotlib.image.AxesImage at 0x1f4e6cd3a10>"
      ]
     },
     "execution_count": 13,
     "metadata": {},
     "output_type": "execute_result"
    },
    {
     "data": {
      "image/png": "[encoded data removed]",
      "text/plain": [
       "<Figure size 640x480 with 1 Axes>"
      ]
     },
     "metadata": {},
     "output_type": "display_data"
    }
   ],
   "source": [
    "temp = np.hstack([trace_averages[-2], trace_averages[0]])\n",
    "plt.imshow(temp)"
   ]
  },
  {
   "cell_type": "code",
   "execution_count": 43,
   "id": "ce1b9803",
   "metadata": {},
   "outputs": [
    {
     "data": {
      "text/plain": [
       "1.4395645161290322"
      ]
     },
     "execution_count": 43,
     "metadata": {},
     "output_type": "execute_result"
    }
   ],
   "source": [
    "mins = np.zeros(len(trace_averages))\n",
    "for i in range(len(trace_averages)):\n",
    "    mins[i] = trace_averages[i].min()\n",
    "mins.mean()"
   ]
  },
  {
   "cell_type": "code",
   "execution_count": 44,
   "id": "7a595fa2",
   "metadata": {},
   "outputs": [
    {
     "data": {
      "text/plain": [
       "0.5024933281844916"
      ]
     },
     "execution_count": 44,
     "metadata": {},
     "output_type": "execute_result"
    }
   ],
   "source": [
    "mins.std()"
   ]
  },
  {
   "cell_type": "code",
   "execution_count": null,
   "id": "e4d80f6b",
   "metadata": {},
   "outputs": [],
   "source": []
  },
  {
   "cell_type": "code",
   "execution_count": 38,
   "id": "2f75256a",
   "metadata": {},
   "outputs": [
    {
     "data": {
      "text/plain": [
       "524.6467"
      ]
     },
     "execution_count": 38,
     "metadata": {},
     "output_type": "execute_result"
    }
   ],
   "source": [
    "trace_averages[-1].max()"
   ]
  },
  {
   "cell_type": "code",
   "execution_count": 39,
   "id": "660403a0",
   "metadata": {},
   "outputs": [
    {
     "data": {
      "text/plain": [
       "489.7545"
      ]
     },
     "execution_count": 39,
     "metadata": {},
     "output_type": "execute_result"
    }
   ],
   "source": [
    "trace_averages[0].max()"
   ]
  },
  {
   "cell_type": "code",
   "execution_count": null,
   "id": "60d0b63a",
   "metadata": {},
   "outputs": [],
   "source": [
    "#6 [0, 10, 7.5, 5, 0] 7.37 0.0274  <-->  7.343  -  7.398\n",
    "#4 [0, 10, 7.5, 5, 0] 7.354 0.0276  <-->  7.326  -  7.381\n",
    "#5 [0, 10, 7.5, 5, 0] 7.318 0.0275  <-->  7.291  -  7.346\n",
    "#7 [1, 10, 10, 10, 0] 7.31 0.0277  <-->  7.282  -  7.337"
   ]
  },
  {
   "cell_type": "code",
   "execution_count": 10,
   "id": "d0d8b34e",
   "metadata": {},
   "outputs": [],
   "source": [
    "win_averages = []\n",
    "win_stds = []\n",
    "win_errors = []\n",
    "for win in win_data:\n",
    "    win_averages.append(win[0])\n",
    "    win_stds.append(win[1])\n",
    "    win_errors.append(win[2])"
   ]
  },
  {
   "cell_type": "code",
   "execution_count": 11,
   "id": "b4787695",
   "metadata": {},
   "outputs": [],
   "source": [
    "stdev_averages = []\n",
    "stdev_stds = []\n",
    "stdev_errors = []\n",
    "for stdev in stdev_data:\n",
    "    stdev_averages.append(stdev[0])\n",
    "    stdev_stds.append(stdev[1])\n",
    "    stdev_errors.append(stdev[2])"
   ]
  },
  {
   "cell_type": "code",
   "execution_count": 12,
   "id": "17c09a35",
   "metadata": {},
   "outputs": [
    {
     "name": "stdout",
     "output_type": "stream",
     "text": [
      "21.915006421778063 0.10708246384246096\n",
      "15.2103472534303 0.08477570267273185\n",
      "16.418986514123485 0.08330403448770658\n",
      "17.957885942316455 0.082570717415026\n",
      "19.480932797157642 0.08758232776463426\n",
      "21.781383165100706 0.09574792182765507\n",
      "15.629925028396283 0.08976795817382\n",
      "13.687060319755307 0.06589713849537174\n",
      "14.736647638912821 0.08364109341070006\n",
      "14.072948662005137 0.08261498998746902\n",
      "13.682836146118154 0.09185016762984498\n",
      "14.127084552989043 0.08014547039543578\n"
     ]
    }
   ],
   "source": [
    "for (mean, error) in zip(stdev_averages, stdev_errors):\n",
    "    print(mean, error)"
   ]
  },
  {
   "cell_type": "code",
   "execution_count": null,
   "id": "867227b5",
   "metadata": {},
   "outputs": [],
   "source": []
  },
  {
   "cell_type": "code",
   "execution_count": null,
   "id": "e1d1e4e4",
   "metadata": {},
   "outputs": [],
   "source": []
  },
  {
   "cell_type": "code",
   "execution_count": null,
   "id": "40434e62",
   "metadata": {},
   "outputs": [],
   "source": []
  },
  {
   "cell_type": "code",
   "execution_count": 3,
   "id": "765c18cc",
   "metadata": {},
   "outputs": [],
   "source": [
    "ch1 = Chooser(5)\n",
    "ch2 = Chooser(5, [1,10,10,10,1])"
   ]
  },
  {
   "cell_type": "code",
   "execution_count": 5,
   "id": "b11bc7c8",
   "metadata": {},
   "outputs": [],
   "source": [
    "lol1 = Process(target=simulate_explore, args=[sem, out_lock, output_queue, 100,100,40, ch1, 15, 1.08])\n",
    "lol2 = Process(target=simulate_explore, args=[sem, out_lock, output_queue, 100,100,40, ch2, 15, 1.08])"
   ]
  },
  {
   "cell_type": "code",
   "execution_count": 6,
   "id": "d4cc395c",
   "metadata": {},
   "outputs": [],
   "source": [
    "lol1.start()\n",
    "lol2.start()"
   ]
  },
  {
   "cell_type": "code",
   "execution_count": 8,
   "id": "04ff928f",
   "metadata": {},
   "outputs": [],
   "source": [
    "lol1.join()\n",
    "lol2.join()"
   ]
  },
  {
   "cell_type": "code",
   "execution_count": 10,
   "id": "6a576950",
   "metadata": {},
   "outputs": [],
   "source": [
    "list = []\n",
    "if list:\n",
    "    print(\"hi\")"
   ]
  },
  {
   "cell_type": "code",
   "execution_count": null,
   "id": "dddab848",
   "metadata": {},
   "outputs": [],
   "source": []
  }
 ],
 "metadata": {
  "kernelspec": {
   "display_name": "Python 3 (ipykernel)",
   "language": "python",
   "name": "python3"
  },
  "language_info": {
   "codemirror_mode": {
    "name": "ipython",
    "version": 3
   },
   "file_extension": ".py",
   "mimetype": "text/x-python",
   "name": "python",
   "nbconvert_exporter": "python",
   "pygments_lexer": "ipython3",
   "version": "3.11.3"
  }
 },
 "nbformat": 4,
 "nbformat_minor": 5
}
