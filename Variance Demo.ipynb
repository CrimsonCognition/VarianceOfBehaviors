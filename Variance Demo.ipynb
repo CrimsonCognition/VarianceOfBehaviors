{
 "cells": [
  {
   "cell_type": "code",
   "execution_count": 1,
   "id": "86174fe3",
   "metadata": {},
   "outputs": [],
   "source": [
    "#fundamental tools for the game environment model\n",
    "import numpy as np\n",
    "from multiprocess import Process, Queue, Semaphore, Lock\n",
    "import time\n",
    "\n",
    "# for visualations\n",
    "import matplotlib.pyplot as plt"
   ]
  },
  {
   "cell_type": "code",
   "execution_count": 2,
   "id": "77b444a5",
   "metadata": {},
   "outputs": [
    {
     "name": "stdout",
     "output_type": "stream",
     "text": [
      "pygame 2.5.1 (SDL 2.28.2, Python 3.11.3)\n",
      "Hello from the pygame community. https://www.pygame.org/contribute.html\n"
     ]
    }
   ],
   "source": [
    "from randomchooser import Chooser\n",
    "from exploresims import simulate_explore, sim_1, demo_1\n",
    "import explore"
   ]
  },
  {
   "cell_type": "markdown",
   "id": "6a29b292",
   "metadata": {},
   "source": [
    "When training a Reinforcement Learning (RL) model using the Bellman Equationor or Temporal Difference and discrete actions, it is overwhelmingly common to both emphasize the importance of input/action variance and to control output variance.\n",
    "\n",
    "One is far more likely to encounter discussion, advice, and research pretaining to the controlling of the variance in the outputs of a system. This is the so called Variance or Bias Tradeoff. The propbelm here is of course the repetative use of the term Variance, but given its statistical signifagance it is mostly unavoidable.\n",
    "\n",
    "This discussion and its accompanying demonstrations are focused on the other side of the spectrum. The variance of the expereinces provided to the model during training. How actions are selected and its impact on model convergence, and potentially overal policy quality.\n",
    "\n",
    "For simplicity of the demonstrations, we shall focus our considerations to RL models most similar to DQN models utilizing something mathematically resembaling the Epsilon Greey Strategy and Expereince Replay Memory in line with Bellman Equation based reward optimizations (ie Deep Reinforcement Learning / Deep Q-Learning).\n",
    "\n",
    "Note this restriction is arbitrary and simply serves to limit the scope of the demonstration, to keep things acesible, apologies to the more advanced reader."
   ]
  },
  {
   "cell_type": "markdown",
   "id": "34788a2c",
   "metadata": {},
   "source": [
    "Unlike the plethera of sources that discuss the Variance Bias Tradeoff of outputs, there are far less discussions on maximizing/minimizing the variance of actions selected by the model during its explorationary phases. It is quite the norm for texts, tutorials, examples, and the like to simply select a uniform distribution, justify it as being mathematically the highest variance, and therefore the least biased towards any one action type for the model to explore.\n",
    "\n",
    "This is fine in theory, it feels intuitive, however this trend should not go unchallenged simply for its face value.\n",
    "\n",
    "The reasoning here is that we want high variance in the random actions selected during exploration. The point is we want the model, for a time, to make entirely random moves. These moves should not \"prefer\" any one action and build a stored memeory of expereinces. Then we slowly allow the model to take its own actions and converge on some strategy. This is the fundamental idea behind the Epsilon Greedy strategy.\n",
    "\n",
    "High Variance of the random selection ensures a diverse set of expereirences and the uniform nature of the distribution prevents bias in examples. This is why the commmon assumption is so intuitive and is rarely strayed from, or challenged."
   ]
  },
  {
   "cell_type": "markdown",
   "id": "67c75ab1",
   "metadata": {},
   "source": [
    "To avoid this from being an endless drone, lets dip our toes in and  see some demonstrations and other visualizations. To this end I have put together a small game, called Explore. It is like a simple maze game, where an agent, or player, is represented bya blue square and must navigate to the exit or goal, represented by the green square.\n",
    "There may be some number of grey walls obstructing the agent's path, but a path to the goal will always exist.\n",
    "The agent may only choose to move up, down, left, right, or do nothing.\n",
    "\n",
    "For visualization purposes the animation includes a trace or heatmap of the number of times a square has been visited. This matrix is then normalized sucht hat the most visited square is always full white, and unvisited squares are fully black.\n",
    "Please run the next cell and observe this first agent \"play\". I won't mention what algorithm may be at play here, yet, but know the moves are entirely random.\n",
    "10 games will be simulated, up to 80 moves each. The trace will be totaled over all 10 games."
   ]
  },
  {
   "cell_type": "code",
   "execution_count": null,
   "id": "b8c02065",
   "metadata": {},
   "outputs": [],
   "source": [
    "demo_1()"
   ]
  },
  {
   "cell_type": "code",
   "execution_count": 3,
   "id": "2c72824e",
   "metadata": {},
   "outputs": [
    {
     "data": {
      "text/plain": [
       "31"
      ]
     },
     "execution_count": 3,
     "metadata": {},
     "output_type": "execute_result"
    }
   ],
   "source": [
    "choosers = []\n",
    "choosers.append(Chooser(5))\n",
    "if True:\n",
    "    for i in range(3, 13):\n",
    "        choosers.append(Chooser(5, [0,10,7.5,5,0], i))\n",
    "    for i in range(3, 13):\n",
    "        choosers.append(Chooser(5, [10,10,10,10,10], i))\n",
    "    for i in range(3, 13):\n",
    "        choosers.append(Chooser(5, [1,10,10,10,0], i))\n",
    "else:\n",
    "    choosers.append(Chooser(5, [0, 10, 7.5, 5, 0], 6))\n",
    "    choosers.append(Chooser(5, [0, 10, 7.5, 5, 0], 4))\n",
    "    choosers.append(Chooser(5, [0, 10, 7.5, 5, 0], 5))\n",
    "    choosers.append(Chooser(5, [1, 10, 10, 10, 0], 7))\n",
    "len(choosers)"
   ]
  },
  {
   "cell_type": "code",
   "execution_count": 4,
   "id": "19918366",
   "metadata": {},
   "outputs": [],
   "source": [
    "out = sim_1(choosers, samples=1000, games=10, num_process=8, num_column=3)"
   ]
  },
  {
   "cell_type": "code",
   "execution_count": 5,
   "id": "b1f03cfe",
   "metadata": {},
   "outputs": [],
   "source": [
    "results = out"
   ]
  },
  {
   "cell_type": "code",
   "execution_count": 6,
   "id": "0dd38b5e",
   "metadata": {},
   "outputs": [],
   "source": [
    "for k in range(len(results)):\n",
    "    max_winrate = 0\n",
    "    pos = 0\n",
    "    for i in range(k, len(results)):\n",
    "        if results[i][2][0] > max_winrate:\n",
    "            max_winrate = results[i][2][0]\n",
    "            pos = i\n",
    "    temp = results[k]\n",
    "    results[k] = results[pos]\n",
    "    results[pos] = temp"
   ]
  },
  {
   "cell_type": "code",
   "execution_count": 7,
   "id": "7effe7bc",
   "metadata": {},
   "outputs": [
    {
     "name": "stdout",
     "output_type": "stream",
     "text": [
      "0.237\n",
      "0.208\n",
      "0.204\n",
      "0.203\n",
      "0.2\n",
      "0.19\n",
      "0.187\n",
      "0.186\n",
      "0.186\n",
      "0.183\n",
      "0.177\n",
      "0.177\n",
      "0.177\n",
      "0.177\n",
      "0.171\n",
      "0.171\n",
      "0.165\n",
      "0.161\n",
      "0.159\n",
      "0.156\n",
      "0.152\n",
      "0.152\n",
      "0.148\n",
      "0.147\n",
      "0.145\n",
      "0.144\n",
      "0.135\n",
      "0.135\n",
      "0.135\n",
      "0.114\n",
      "0.083\n"
     ]
    }
   ],
   "source": [
    "for i in range(len(results)):\n",
    "    print(results[i][2][0])"
   ]
  },
  {
   "cell_type": "code",
   "execution_count": 8,
   "id": "bf74536a",
   "metadata": {},
   "outputs": [],
   "source": [
    "weights = []\n",
    "durations = []\n",
    "win_data = []\n",
    "stdev_data = []\n",
    "trace_averages = []\n",
    "for result in results:\n",
    "    weights.append(result[0])\n",
    "    durations.append(result[1])\n",
    "    win_data.append(result[2])\n",
    "    stdev_data.append(result[3])\n",
    "    trace_averages.append(result[4])"
   ]
  },
  {
   "cell_type": "code",
   "execution_count": 9,
   "id": "2a53d9ee",
   "metadata": {
    "scrolled": true
   },
   "outputs": [
    {
     "name": "stdout",
     "output_type": "stream",
     "text": [
      "11 [0, 10, 7.5, 5, 0] 0.237 0.0158  <-->  0.2212  -  0.2528\n",
      "12 [1, 10, 10, 10, 0] 0.208 0.0147  <-->  0.1933  -  0.2227\n",
      "12 [0, 10, 7.5, 5, 0] 0.204 0.0145  <-->  0.1895  -  0.2185\n",
      "8 [0, 10, 7.5, 5, 0] 0.203 0.014  <-->  0.189  -  0.217\n",
      "11 [1, 10, 10, 10, 0] 0.2 0.014  <-->  0.186  -  0.214\n",
      "8 [1, 10, 10, 10, 0] 0.19 0.0141  <-->  0.1759  -  0.2041\n",
      "6 [10, 10, 10, 10, 10] 0.187 0.0132  <-->  0.1738  -  0.2002\n",
      "10 [0, 10, 7.5, 5, 0] 0.186 0.0136  <-->  0.1724  -  0.1996\n",
      "9 [10, 10, 10, 10, 10] 0.186 0.0135  <-->  0.1725  -  0.1995\n",
      "9 [1, 10, 10, 10, 0] 0.183 0.0134  <-->  0.1696  -  0.1964\n",
      "10 [1, 10, 10, 10, 0] 0.177 0.0129  <-->  0.1641  -  0.1899\n",
      "5 [0, 10, 7.5, 5, 0] 0.177 0.0132  <-->  0.1638  -  0.1902\n",
      "9 [0, 10, 7.5, 5, 0] 0.177 0.0129  <-->  0.1641  -  0.1899\n",
      "7 [0, 10, 7.5, 5, 0] 0.177 0.0132  <-->  0.1638  -  0.1902\n",
      "8 [10, 10, 10, 10, 10] 0.171 0.0133  <-->  0.1577  -  0.1843\n",
      "7 [10, 10, 10, 10, 10] 0.171 0.0129  <-->  0.1581  -  0.1839\n",
      "6 [0, 10, 7.5, 5, 0] 0.165 0.0129  <-->  0.1521  -  0.1779\n",
      "5 [1, 10, 10, 10, 0] 0.161 0.0124  <-->  0.1486  -  0.1734\n",
      "12 [10, 10, 10, 10, 10] 0.159 0.0127  <-->  0.1463  -  0.1717\n",
      "6 [1, 10, 10, 10, 0] 0.156 0.0126  <-->  0.1434  -  0.1686\n",
      "11 [10, 10, 10, 10, 10] 0.152 0.012  <-->  0.14  -  0.164\n",
      "7 [1, 10, 10, 10, 0] 0.152 0.012  <-->  0.14  -  0.164\n",
      "4 [10, 10, 10, 10, 10] 0.148 0.012  <-->  0.136  -  0.16\n",
      "3 [10, 10, 10, 10, 10] 0.147 0.0122  <-->  0.1348  -  0.1592\n",
      "10 [10, 10, 10, 10, 10] 0.145 0.012  <-->  0.133  -  0.157\n",
      "3 [1, 10, 10, 10, 0] 0.144 0.0122  <-->  0.1318  -  0.1562\n",
      "4 [0, 10, 7.5, 5, 0] 0.135 0.0114  <-->  0.1236  -  0.1464\n",
      "4 [1, 10, 10, 10, 0] 0.135 0.0116  <-->  0.1234  -  0.1466\n",
      "5 [10, 10, 10, 10, 10] 0.135 0.0117  <-->  0.1233  -  0.1467\n",
      "3 [0, 10, 7.5, 5, 0] 0.114 0.0111  <-->  0.1029  -  0.1251\n",
      "-1 None 0.083 0.00917  <-->  0.07383  -  0.09217\n"
     ]
    }
   ],
   "source": [
    "for (w, d, r) in zip(weights, durations, win_data):\n",
    "    print(d, w, f\"{r[0]:.4}\", f\"{r[2]:.3}\", \" <--> \", f\"{r[0] - r[2]:.4}\", \" - \", f\"{r[0] + r[2]:.4}\")"
   ]
  },
  {
   "cell_type": "code",
   "execution_count": null,
   "id": "ce2f4b8b",
   "metadata": {},
   "outputs": [],
   "source": []
  },
  {
   "cell_type": "code",
   "execution_count": 13,
   "id": "eff635c3",
   "metadata": {},
   "outputs": [
    {
     "data": {
      "text/plain": [
       "<matplotlib.image.AxesImage at 0x1f4e6cd3a10>"
      ]
     },
     "execution_count": 13,
     "metadata": {},
     "output_type": "execute_result"
    },
    {
     "data": {
      "image/png": "[encoded data removed]",
      "text/plain": [
       "<Figure size 640x480 with 1 Axes>"
      ]
     },
     "metadata": {},
     "output_type": "display_data"
    }
   ],
   "source": [
    "temp = np.hstack([trace_averages[-2], trace_averages[0]])\n",
    "plt.imshow(temp)"
   ]
  },
  {
   "cell_type": "code",
   "execution_count": 43,
   "id": "ce1b9803",
   "metadata": {},
   "outputs": [
    {
     "data": {
      "text/plain": [
       "1.4395645161290322"
      ]
     },
     "execution_count": 43,
     "metadata": {},
     "output_type": "execute_result"
    }
   ],
   "source": [
    "mins = np.zeros(len(trace_averages))\n",
    "for i in range(len(trace_averages)):\n",
    "    mins[i] = trace_averages[i].min()\n",
    "mins.mean()"
   ]
  },
  {
   "cell_type": "code",
   "execution_count": 44,
   "id": "7a595fa2",
   "metadata": {},
   "outputs": [
    {
     "data": {
      "text/plain": [
       "0.5024933281844916"
      ]
     },
     "execution_count": 44,
     "metadata": {},
     "output_type": "execute_result"
    }
   ],
   "source": [
    "mins.std()"
   ]
  },
  {
   "cell_type": "code",
   "execution_count": null,
   "id": "e4d80f6b",
   "metadata": {},
   "outputs": [],
   "source": []
  },
  {
   "cell_type": "code",
   "execution_count": 38,
   "id": "2f75256a",
   "metadata": {},
   "outputs": [
    {
     "data": {
      "text/plain": [
       "524.6467"
      ]
     },
     "execution_count": 38,
     "metadata": {},
     "output_type": "execute_result"
    }
   ],
   "source": [
    "trace_averages[-1].max()"
   ]
  },
  {
   "cell_type": "code",
   "execution_count": 39,
   "id": "660403a0",
   "metadata": {},
   "outputs": [
    {
     "data": {
      "text/plain": [
       "489.7545"
      ]
     },
     "execution_count": 39,
     "metadata": {},
     "output_type": "execute_result"
    }
   ],
   "source": [
    "trace_averages[0].max()"
   ]
  },
  {
   "cell_type": "code",
   "execution_count": null,
   "id": "60d0b63a",
   "metadata": {},
   "outputs": [],
   "source": [
    "#6 [0, 10, 7.5, 5, 0] 7.37 0.0274  <-->  7.343  -  7.398\n",
    "#4 [0, 10, 7.5, 5, 0] 7.354 0.0276  <-->  7.326  -  7.381\n",
    "#5 [0, 10, 7.5, 5, 0] 7.318 0.0275  <-->  7.291  -  7.346\n",
    "#7 [1, 10, 10, 10, 0] 7.31 0.0277  <-->  7.282  -  7.337"
   ]
  },
  {
   "cell_type": "code",
   "execution_count": 10,
   "id": "d0d8b34e",
   "metadata": {},
   "outputs": [],
   "source": [
    "win_averages = []\n",
    "win_stds = []\n",
    "win_errors = []\n",
    "for win in win_data:\n",
    "    win_averages.append(win[0])\n",
    "    win_stds.append(win[1])\n",
    "    win_errors.append(win[2])"
   ]
  },
  {
   "cell_type": "code",
   "execution_count": 11,
   "id": "b4787695",
   "metadata": {},
   "outputs": [],
   "source": [
    "stdev_averages = []\n",
    "stdev_stds = []\n",
    "stdev_errors = []\n",
    "for stdev in stdev_data:\n",
    "    stdev_averages.append(stdev[0])\n",
    "    stdev_stds.append(stdev[1])\n",
    "    stdev_errors.append(stdev[2])"
   ]
  },
  {
   "cell_type": "code",
   "execution_count": 12,
   "id": "17c09a35",
   "metadata": {},
   "outputs": [
    {
     "name": "stdout",
     "output_type": "stream",
     "text": [
      "21.915006421778063 0.10708246384246096\n",
      "15.2103472534303 0.08477570267273185\n",
      "16.418986514123485 0.08330403448770658\n",
      "17.957885942316455 0.082570717415026\n",
      "19.480932797157642 0.08758232776463426\n",
      "21.781383165100706 0.09574792182765507\n",
      "15.629925028396283 0.08976795817382\n",
      "13.687060319755307 0.06589713849537174\n",
      "14.736647638912821 0.08364109341070006\n",
      "14.072948662005137 0.08261498998746902\n",
      "13.682836146118154 0.09185016762984498\n",
      "14.127084552989043 0.08014547039543578\n"
     ]
    }
   ],
   "source": [
    "for (mean, error) in zip(stdev_averages, stdev_errors):\n",
    "    print(mean, error)"
   ]
  },
  {
   "cell_type": "code",
   "execution_count": null,
   "id": "867227b5",
   "metadata": {},
   "outputs": [],
   "source": []
  },
  {
   "cell_type": "code",
   "execution_count": null,
   "id": "e1d1e4e4",
   "metadata": {},
   "outputs": [],
   "source": []
  },
  {
   "cell_type": "code",
   "execution_count": null,
   "id": "40434e62",
   "metadata": {},
   "outputs": [],
   "source": []
  },
  {
   "cell_type": "code",
   "execution_count": 3,
   "id": "765c18cc",
   "metadata": {},
   "outputs": [],
   "source": [
    "ch1 = Chooser(5)\n",
    "ch2 = Chooser(5, [1,10,10,10,1])"
   ]
  },
  {
   "cell_type": "code",
   "execution_count": 5,
   "id": "b11bc7c8",
   "metadata": {},
   "outputs": [],
   "source": [
    "lol1 = Process(target=simulate_explore, args=[sem, out_lock, output_queue, 100,100,40, ch1, 15, 1.08])\n",
    "lol2 = Process(target=simulate_explore, args=[sem, out_lock, output_queue, 100,100,40, ch2, 15, 1.08])"
   ]
  },
  {
   "cell_type": "code",
   "execution_count": 6,
   "id": "d4cc395c",
   "metadata": {},
   "outputs": [],
   "source": [
    "lol1.start()\n",
    "lol2.start()"
   ]
  },
  {
   "cell_type": "code",
   "execution_count": 8,
   "id": "04ff928f",
   "metadata": {},
   "outputs": [],
   "source": [
    "lol1.join()\n",
    "lol2.join()"
   ]
  },
  {
   "cell_type": "code",
   "execution_count": 10,
   "id": "6a576950",
   "metadata": {},
   "outputs": [],
   "source": [
    "list = []\n",
    "if list:\n",
    "    print(\"hi\")"
   ]
  },
  {
   "cell_type": "code",
   "execution_count": null,
   "id": "dddab848",
   "metadata": {},
   "outputs": [],
   "source": []
  }
 ],
 "metadata": {
  "kernelspec": {
   "display_name": "Python 3 (ipykernel)",
   "language": "python",
   "name": "python3"
  },
  "language_info": {
   "codemirror_mode": {
    "name": "ipython",
    "version": 3
   },
   "file_extension": ".py",
   "mimetype": "text/x-python",
   "name": "python",
   "nbconvert_exporter": "python",
   "pygments_lexer": "ipython3",
   "version": "3.11.3"
  }
 },
 "nbformat": 4,
 "nbformat_minor": 5
}
