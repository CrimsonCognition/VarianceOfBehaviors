{
 "cells": [
  {
   "cell_type": "code",
   "execution_count": 1,
   "id": "86174fe3",
   "metadata": {},
   "outputs": [],
   "source": [
    "#fundamental tools for the game environment model\n",
    "import numpy as np\n",
    "from multiprocess import Process, Queue, Semaphore, Lock\n",
    "import time\n",
    "\n",
    "# for visualations\n",
    "import matplotlib.pyplot as plt"
   ]
  },
  {
   "cell_type": "code",
   "execution_count": 2,
   "id": "77b444a5",
   "metadata": {},
   "outputs": [
    {
     "name": "stdout",
     "output_type": "stream",
     "text": [
      "pygame 2.5.1 (SDL 2.28.2, Python 3.11.3)\n",
      "Hello from the pygame community. https://www.pygame.org/contribute.html\n"
     ]
    }
   ],
   "source": [
    "from randomchooser import Chooser\n",
    "from exploresims import simulate_explore"
   ]
  },
  {
   "cell_type": "code",
   "execution_count": 3,
   "id": "9b591276",
   "metadata": {},
   "outputs": [],
   "source": [
    "max_processes = 6\n",
    "sem = Semaphore(max_processes)\n",
    "out_lock = Lock()\n",
    "output_queue = Queue()\n",
    "pos_queue = Queue()"
   ]
  },
  {
   "cell_type": "code",
   "execution_count": 4,
   "id": "a7e7b64a",
   "metadata": {},
   "outputs": [],
   "source": [
    "# make positions available\n",
    "num_cols = 2\n",
    "for i in range(max_processes):\n",
    "    x = 30 + (i%num_cols) * (610 + 30) \n",
    "    y = 40 + (i//num_cols)*(300 + 40)\n",
    "    pos_queue.put((x,y))"
   ]
  },
  {
   "cell_type": "code",
   "execution_count": 5,
   "id": "83bda229",
   "metadata": {},
   "outputs": [],
   "source": [
    "choosers = []\n",
    "choosers.append(Chooser(5))\n",
    "for i in range(11):\n",
    "    choosers.append(Chooser(5, [1,10,10,10,1], 1+i))"
   ]
  },
  {
   "cell_type": "code",
   "execution_count": 6,
   "id": "7e60f408",
   "metadata": {},
   "outputs": [],
   "source": [
    "sims = []\n",
    "for ch in choosers:\n",
    "    curr_args = [sem, out_lock, output_queue, 100,100,40, ch, 21,\n",
    "                 300, 15, 1.25, True, pos_queue]\n",
    "    p = Process(target=simulate_explore, args=curr_args)\n",
    "    sims.append(p)"
   ]
  },
  {
   "cell_type": "code",
   "execution_count": 7,
   "id": "0c419988",
   "metadata": {},
   "outputs": [],
   "source": [
    "for sim in sims:\n",
    "    sim.start()"
   ]
  },
  {
   "cell_type": "code",
   "execution_count": 8,
   "id": "df69d963",
   "metadata": {},
   "outputs": [],
   "source": [
    "results = []\n",
    "while not output_queue.empty():\n",
    "    results.append(output_queue.get())"
   ]
  },
  {
   "cell_type": "code",
   "execution_count": 9,
   "id": "63cf65f3",
   "metadata": {},
   "outputs": [
    {
     "data": {
      "text/plain": [
       "12"
      ]
     },
     "execution_count": 9,
     "metadata": {},
     "output_type": "execute_result"
    }
   ],
   "source": [
    "len(results)"
   ]
  },
  {
   "cell_type": "code",
   "execution_count": 13,
   "id": "91676269",
   "metadata": {},
   "outputs": [],
   "source": [
    "weights = []\n",
    "durations = []\n",
    "win_data = []\n",
    "stdev_data = []\n",
    "trace_averages = []\n",
    "for result in results:\n",
    "    weights.append(result[0])\n",
    "    durations.append(result[1])\n",
    "    win_data.append(result[2])\n",
    "    stdev_data.append(result[3])\n",
    "    trace_averages.append(result[4])"
   ]
  },
  {
   "cell_type": "code",
   "execution_count": 15,
   "id": "3fb0de7a",
   "metadata": {},
   "outputs": [],
   "source": [
    "win_averages = []\n",
    "win_stds = []\n",
    "win_errors = []\n",
    "for win in win_data:\n",
    "    win_averages.append(win[0])\n",
    "    win_stds.append(win[1])\n",
    "    win_errors.append(win[2])"
   ]
  },
  {
   "cell_type": "code",
   "execution_count": 17,
   "id": "d6eda386",
   "metadata": {},
   "outputs": [],
   "source": [
    "stdev_averages = []\n",
    "stdev_stds = []\n",
    "stdev_errors = []\n",
    "for stdev in stdev_data:\n",
    "    stdev_averages.append(stdev[0])\n",
    "    stdev_stds.append(stdev[1])\n",
    "    stdev_errors.append(stdev[2])"
   ]
  },
  {
   "cell_type": "code",
   "execution_count": 20,
   "id": "f4eec426",
   "metadata": {},
   "outputs": [
    {
     "name": "stdout",
     "output_type": "stream",
     "text": [
      "21.86602532982324 0.10469247628252913\n",
      "15.313870940615198 0.07724158159185099\n",
      "15.716533999515704 0.09198569511556216\n",
      "18.010179063609005 0.08559797513084456\n",
      "19.47236847485734 0.09431429254552265\n",
      "21.842453700688335 0.09460410394343419\n",
      "16.555809859094502 0.08570969776239723\n",
      "13.63678957677643 0.06964675739907034\n",
      "13.893293978274947 0.07674123096475867\n",
      "13.548180713872936 0.08147844570211402\n",
      "14.818840616326467 0.07659644601206021\n",
      "14.055505151820253 0.0800953992967946\n"
     ]
    }
   ],
   "source": [
    "for (mean, error) in zip(stdev_averages, stdev_errors):\n",
    "    print(mean, error)"
   ]
  },
  {
   "cell_type": "code",
   "execution_count": null,
   "id": "ba636313",
   "metadata": {},
   "outputs": [],
   "source": []
  },
  {
   "cell_type": "code",
   "execution_count": null,
   "id": "8ec7274f",
   "metadata": {},
   "outputs": [],
   "source": []
  },
  {
   "cell_type": "code",
   "execution_count": null,
   "id": "f1e79e93",
   "metadata": {},
   "outputs": [],
   "source": []
  },
  {
   "cell_type": "code",
   "execution_count": 3,
   "id": "765c18cc",
   "metadata": {},
   "outputs": [],
   "source": [
    "ch1 = Chooser(5)\n",
    "ch2 = Chooser(5, [1,10,10,10,1])"
   ]
  },
  {
   "cell_type": "code",
   "execution_count": 5,
   "id": "b11bc7c8",
   "metadata": {},
   "outputs": [],
   "source": [
    "lol1 = Process(target=simulate_explore, args=[sem, out_lock, output_queue, 100,100,40, ch1, 15, 1.08])\n",
    "lol2 = Process(target=simulate_explore, args=[sem, out_lock, output_queue, 100,100,40, ch2, 15, 1.08])"
   ]
  },
  {
   "cell_type": "code",
   "execution_count": 6,
   "id": "d4cc395c",
   "metadata": {},
   "outputs": [],
   "source": [
    "lol1.start()\n",
    "lol2.start()"
   ]
  },
  {
   "cell_type": "code",
   "execution_count": 8,
   "id": "04ff928f",
   "metadata": {},
   "outputs": [],
   "source": [
    "lol1.join()\n",
    "lol2.join()"
   ]
  },
  {
   "cell_type": "code",
   "execution_count": null,
   "id": "40d64394",
   "metadata": {},
   "outputs": [],
   "source": []
  }
 ],
 "metadata": {
  "kernelspec": {
   "display_name": "Python 3 (ipykernel)",
   "language": "python",
   "name": "python3"
  },
  "language_info": {
   "codemirror_mode": {
    "name": "ipython",
    "version": 3
   },
   "file_extension": ".py",
   "mimetype": "text/x-python",
   "name": "python",
   "nbconvert_exporter": "python",
   "pygments_lexer": "ipython3",
   "version": "3.11.3"
  }
 },
 "nbformat": 4,
 "nbformat_minor": 5
}
