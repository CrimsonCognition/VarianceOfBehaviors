{
 "cells": [
  {
   "cell_type": "code",
   "execution_count": 1,
   "id": "86174fe3",
   "metadata": {},
   "outputs": [],
   "source": [
    "#fundamental tools for the game environment model\n",
    "import numpy as np\n",
    "import multiprocess\n",
    "from multiprocess import Process, Queue, Semaphore, Lock\n",
    "import time\n",
    "import random\n",
    "\n",
    "# for visualations\n",
    "import matplotlib.pyplot as plt"
   ]
  },
  {
   "cell_type": "code",
   "execution_count": 2,
   "id": "77b444a5",
   "metadata": {},
   "outputs": [
    {
     "name": "stdout",
     "output_type": "stream",
     "text": [
      "pygame 2.5.1 (SDL 2.28.2, Python 3.11.3)\n",
      "Hello from the pygame community. https://www.pygame.org/contribute.html\n"
     ]
    }
   ],
   "source": [
    "from randomchooser import Chooser\n",
    "from exploresims import simulate_explore, sim_1, demo_1, demo_2\n",
    "import explore"
   ]
  },
  {
   "cell_type": "markdown",
   "id": "9b6f63cb",
   "metadata": {},
   "source": [
    "When training a Reinforcement Learning (RL) model using a variation of Temporal Difference Error and discrete actions, it is overwhelmingly common to both emphasize the importance of input/action variance and to control output variance and bias.\n",
    "\n",
    "One is far more likely to encounter discussion, advice, and research pertaining to the controlling of the variance in the outputs of a model. This is the so-called Variance or Bias Tradeoff (VBT). The problem here is of course the repetitive use of the term Variance, but given its statistical significance this is mostly unavoidable.\n",
    "\n",
    "This discussion and its accompanying demonstrations are focused on the other side of the spectrum. The variance of the experiences provided to the model during training. How actions are selected and its impact on model convergence, and potentially the quality of the policy, overall.\n",
    "\n",
    "For simplicity of the demonstrations, we shall focus our considerations to RL models most similar to DQN models utilizing algorithms that mathematically resemble the Epsilon Greedy Strategy and Experience Replay Memory in line with Bellman Equation based policy optimizations (i.e. Deep Reinforcement Learning / Deep Q-Learning).\n",
    "\n",
    "Note this restriction is arbitrary and simply serves to limit the scope of the demonstration, to keep things accessible, apologies to the more advanced reader.\n",
    "\n",
    "Unlike the plethora of sources that discuss the Variance Bias Tradeoff of outputs, there are far less discussions on maximizing or minimizing the variance of actions selected by the model during its exploratory phases. It is quite the norm for texts, tutorials, examples, and the like to simply select a uniform distribution, justify it as being mathematically the highest variance, and therefore the least biased towards any one action type for the model to explore and move on.\n",
    "\n",
    "This is fine in theory, it feels intuitive, however this trend should not go unchallenged simply for its face value.\n",
    "\n",
    "The reasoning here is that we want high variance in the random actions selected during exploration. The point is that we want the model, for a time, to make entirely random moves. These moves should not \"prefer\" any one action and build a stored memory of experiences. Then we slowly allow the model to take its own actions and converge on some strategy. This is the fundamental idea behind the Epsilon Greedy strategy.\n",
    "\n",
    "High variance in the random selection ensures a diverse set of experiences and the uniform nature of the distribution prevents bias in examples. This is why the common assumption is so intuitive and is rarely strayed from, or challenged.\n",
    "\n",
    "To avoid this from being an endless drone, lets dip our toes in and  see some demonstrations and other visualizations. To this end I have put together a small game, called Explore. It is like a simple maze game, where an agent, or player, is represented by a blue square and must navigate to the exit or goal, represented by the green square.\n",
    "There may be some number of gray walls obstructing the agent's path, but a path to the goal will always exist.\n",
    "The agent may only choose to move up, down, left, right, or do nothing.\n",
    "\n",
    "For visualization purposes the animation includes a trace or heatmap of the number of times a square has been visited. This matrix is then normalized such that the most visited square is always full white, and unvisited squares are fully black.\n",
    "Please run the next cell and observe this first agent \"play\". I won't mention what algorithm may be at play here, yet, but know the moves are entirely random.\n",
    "10 games will be simulated, up to 80 moves each. The trace will be totaled over all 10 games."
   ]
  },
  {
   "cell_type": "markdown",
   "id": "3cd4a89f",
   "metadata": {},
   "source": [
    "Note these first two demos will not have the walls in play.\n",
    "The windows will hold the result for a few seconds before closing so you can view the final heatmap. Focus on the look and feel of the gameplay you see."
   ]
  },
  {
   "cell_type": "code",
   "execution_count": 34,
   "id": "ed1e947e",
   "metadata": {},
   "outputs": [],
   "source": [
    "sample_1 = demo_1()"
   ]
  },
  {
   "cell_type": "code",
   "execution_count": 35,
   "id": "99b6f2ab",
   "metadata": {},
   "outputs": [],
   "source": [
    "# Now watch this other demo\n",
    "sample_2 = demo_2()"
   ]
  },
  {
   "cell_type": "markdown",
   "id": "7d0f61a6",
   "metadata": {},
   "source": [
    "Okay now watch them again, but with the walls present so you can see what the game would be like in general. If an agent gets to the goal, it progresses to the next \"floor\". As in a new map, and goal location is generated. You may have seen the goal move earlier when touched, but now it will include a whole new map. Reaching the goal 10 times is the offical \"win\" condition of the game."
   ]
  },
  {
   "cell_type": "code",
   "execution_count": 7,
   "id": "41a37ad8",
   "metadata": {},
   "outputs": [],
   "source": [
    "demo_1(rebuild=True)\n",
    "demo_2(rebuild=True)"
   ]
  },
  {
   "cell_type": "markdown",
   "id": "e6286670",
   "metadata": {},
   "source": [
    "Okay so now you have watched two different \"agents\" play a few games. I already told you the first one was random . . . but would you beleive me if I told you the second one was equally as random?\n",
    "\n",
    "Assuming you are infact willing to beleive me, here is a question I want you to ponder.\n",
    "\n",
    "Which one was more random?\n",
    "\n",
    "Feel free to watch them play again if you like but don't get to caught up in trying to guess correctly. The nebulous nature of this randomness is indeed the reason for this demo.\n",
    "\n",
    "Okay here is another question, which heatmap or trace, the thing on the right of the viewing window looks the most variable?\n",
    "\n",
    "Don't worry we saved them earlier so you don't have to keep running the simualtion to look at them."
   ]
  },
  {
   "cell_type": "code",
   "execution_count": 42,
   "id": "2eadd586",
   "metadata": {},
   "outputs": [
    {
     "data": {
      "text/plain": [
       "<matplotlib.image.AxesImage at 0x2946cc7e290>"
      ]
     },
     "execution_count": 42,
     "metadata": {},
     "output_type": "execute_result"
    },
    {
     "data": {
      "image/png": "[encoded data removed]",
      "text/plain": [
       "<Figure size 640x480 with 1 Axes>"
      ]
     },
     "metadata": {},
     "output_type": "display_data"
    }
   ],
   "source": [
    "#This is just some postprocessing for drawing the heat maps\n",
    "heat_1 = sample_1[0][4].copy()\n",
    "heat_2 = sample_2[0][4].copy()\n",
    "\n",
    "# normalizing here to retain relative maxima brightness for each map\n",
    "# imshow also runs a normalize \n",
    "# and would use the max out of both maps to normalize both\n",
    "# If you are interested, you can try commenting them out\n",
    "# but randomness plays a role here as well\n",
    "heat_1 *= 255/heat_1.max()\n",
    "heat_2 *= 255/heat_2.max()\n",
    "\n",
    "# To visually separate the two heat maps\n",
    "spacer = np.zeros((21,3))\n",
    "\n",
    "img = np.hstack([heat_1, spacer, heat_2])\n",
    "plt.imshow(img, cmap=\"gray\")"
   ]
  },
  {
   "cell_type": "code",
   "execution_count": null,
   "id": "8fa75cb6",
   "metadata": {},
   "outputs": [],
   "source": []
  },
  {
   "cell_type": "code",
   "execution_count": null,
   "id": "26b645f7",
   "metadata": {},
   "outputs": [],
   "source": []
  },
  {
   "cell_type": "code",
   "execution_count": null,
   "id": "05abb67b",
   "metadata": {},
   "outputs": [],
   "source": []
  },
  {
   "cell_type": "code",
   "execution_count": 26,
   "id": "71096c10",
   "metadata": {},
   "outputs": [],
   "source": [
    "max_processors = min(8, max(1, multiprocess.cpu_count()//2))\n",
    "#Game params\n",
    "game_size = 21\n",
    "use_maze = False\n",
    "use_exclusion = True\n",
    "use_noise_boundary = 2\n",
    "game_sparsity = .8\n",
    "\n",
    "game_args = [game_size, use_maze, use_exclusion, use_noise_boundary, game_sparsity]\n",
    "\n",
    "game_window_size = 300\n",
    "game_window_framerate = 60\n",
    "\n",
    "window_args = [game_window_size, game_window_framerate]\n"
   ]
  },
  {
   "cell_type": "code",
   "execution_count": 27,
   "id": "2c72824e",
   "metadata": {},
   "outputs": [
    {
     "data": {
      "text/plain": [
       "5"
      ]
     },
     "execution_count": 27,
     "metadata": {},
     "output_type": "execute_result"
    }
   ],
   "source": [
    "choosers = []\n",
    "choosers.append(Chooser(5))\n",
    "if False:\n",
    "    for i in range(3, 13):\n",
    "        choosers.append(Chooser(5, [0,10,7.5,5,0], i))\n",
    "    for i in range(3, 13):\n",
    "        choosers.append(Chooser(5, [10,10,10,10,10], i))\n",
    "    for i in range(3, 13):\n",
    "        choosers.append(Chooser(5, [1,10,10,10,0], i))\n",
    "else:\n",
    "    choosers.append(Chooser(5, [0, 10, 7.5, 5, 0], 6))\n",
    "    choosers.append(Chooser(5, [0, 10, 7.5, 5, 0], 4))\n",
    "    choosers.append(Chooser(5, [0, 10, 7.5, 5, 0], 5))\n",
    "    choosers.append(Chooser(5, [1, 10, 10, 10, 0], 7))\n",
    "len(choosers)"
   ]
  },
  {
   "cell_type": "code",
   "execution_count": 28,
   "id": "19918366",
   "metadata": {},
   "outputs": [],
   "source": [
    "out = sim_1(choosers, samples=1000, games=10, turns=40, num_process=8, num_column=3, env_args=game_args, window_args=window_args)"
   ]
  },
  {
   "cell_type": "code",
   "execution_count": 29,
   "id": "b1f03cfe",
   "metadata": {},
   "outputs": [],
   "source": [
    "results = out"
   ]
  },
  {
   "cell_type": "code",
   "execution_count": 30,
   "id": "0dd38b5e",
   "metadata": {},
   "outputs": [],
   "source": [
    "for k in range(len(results)):\n",
    "    max_winrate = 0\n",
    "    pos = 0\n",
    "    for i in range(k, len(results)):\n",
    "        if results[i][2][0] > max_winrate:\n",
    "            max_winrate = results[i][2][0]\n",
    "            pos = i\n",
    "    temp = results[k]\n",
    "    results[k] = results[pos]\n",
    "    results[pos] = temp"
   ]
  },
  {
   "cell_type": "code",
   "execution_count": 31,
   "id": "7effe7bc",
   "metadata": {},
   "outputs": [
    {
     "name": "stdout",
     "output_type": "stream",
     "text": [
      "0.231\n",
      "0.228\n",
      "0.216\n",
      "0.175\n",
      "0.088\n"
     ]
    }
   ],
   "source": [
    "for i in range(len(results)):\n",
    "    print(results[i][2][0])"
   ]
  },
  {
   "cell_type": "code",
   "execution_count": 19,
   "id": "bf74536a",
   "metadata": {},
   "outputs": [],
   "source": [
    "weights = []\n",
    "durations = []\n",
    "win_data = []\n",
    "stdev_data = []\n",
    "trace_averages = []\n",
    "for result in results:\n",
    "    weights.append(result[0])\n",
    "    durations.append(result[1])\n",
    "    win_data.append(result[2])\n",
    "    stdev_data.append(result[3])\n",
    "    trace_averages.append(result[4])"
   ]
  },
  {
   "cell_type": "code",
   "execution_count": 20,
   "id": "2a53d9ee",
   "metadata": {
    "scrolled": true
   },
   "outputs": [
    {
     "name": "stdout",
     "output_type": "stream",
     "text": [
      "7 [1, 10, 10, 10, 0] 0.977 0.0326  <-->  0.9444  -  1.01\n",
      "5 [0, 10, 7.5, 5, 0] 0.946 0.0319  <-->  0.9141  -  0.9779\n",
      "4 [0, 10, 7.5, 5, 0] 0.933 0.0302  <-->  0.9028  -  0.9632\n",
      "6 [0, 10, 7.5, 5, 0] 0.895 0.0312  <-->  0.8638  -  0.9262\n",
      "-1 None 0.732 0.0269  <-->  0.7051  -  0.7589\n"
     ]
    }
   ],
   "source": [
    "for (w, d, r) in zip(weights, durations, win_data):\n",
    "    print(d, w, f\"{r[0]:.4}\", f\"{r[2]:.3}\", \" <--> \", f\"{r[0] - r[2]:.4}\", \" - \", f\"{r[0] + r[2]:.4}\")"
   ]
  },
  {
   "cell_type": "code",
   "execution_count": null,
   "id": "ce2f4b8b",
   "metadata": {},
   "outputs": [],
   "source": []
  },
  {
   "cell_type": "code",
   "execution_count": 13,
   "id": "eff635c3",
   "metadata": {},
   "outputs": [
    {
     "data": {
      "text/plain": [
       "<matplotlib.image.AxesImage at 0x1f4e6cd3a10>"
      ]
     },
     "execution_count": 13,
     "metadata": {},
     "output_type": "execute_result"
    },
    {
     "data": {
      "image/png": "[encoded data removed]",
      "text/plain": [
       "<Figure size 640x480 with 1 Axes>"
      ]
     },
     "metadata": {},
     "output_type": "display_data"
    }
   ],
   "source": [
    "temp = np.hstack([trace_averages[-2], trace_averages[0]])\n",
    "plt.imshow(temp)"
   ]
  },
  {
   "cell_type": "code",
   "execution_count": 43,
   "id": "ce1b9803",
   "metadata": {},
   "outputs": [
    {
     "data": {
      "text/plain": [
       "1.4395645161290322"
      ]
     },
     "execution_count": 43,
     "metadata": {},
     "output_type": "execute_result"
    }
   ],
   "source": [
    "mins = np.zeros(len(trace_averages))\n",
    "for i in range(len(trace_averages)):\n",
    "    mins[i] = trace_averages[i].min()\n",
    "mins.mean()"
   ]
  },
  {
   "cell_type": "code",
   "execution_count": 44,
   "id": "7a595fa2",
   "metadata": {},
   "outputs": [
    {
     "data": {
      "text/plain": [
       "0.5024933281844916"
      ]
     },
     "execution_count": 44,
     "metadata": {},
     "output_type": "execute_result"
    }
   ],
   "source": [
    "mins.std()"
   ]
  },
  {
   "cell_type": "code",
   "execution_count": null,
   "id": "e4d80f6b",
   "metadata": {},
   "outputs": [],
   "source": []
  },
  {
   "cell_type": "code",
   "execution_count": 38,
   "id": "2f75256a",
   "metadata": {},
   "outputs": [
    {
     "data": {
      "text/plain": [
       "524.6467"
      ]
     },
     "execution_count": 38,
     "metadata": {},
     "output_type": "execute_result"
    }
   ],
   "source": [
    "trace_averages[-1].max()"
   ]
  },
  {
   "cell_type": "code",
   "execution_count": 39,
   "id": "660403a0",
   "metadata": {},
   "outputs": [
    {
     "data": {
      "text/plain": [
       "489.7545"
      ]
     },
     "execution_count": 39,
     "metadata": {},
     "output_type": "execute_result"
    }
   ],
   "source": [
    "trace_averages[0].max()"
   ]
  },
  {
   "cell_type": "code",
   "execution_count": null,
   "id": "60d0b63a",
   "metadata": {},
   "outputs": [],
   "source": [
    "#6 [0, 10, 7.5, 5, 0] 7.37 0.0274  <-->  7.343  -  7.398\n",
    "#4 [0, 10, 7.5, 5, 0] 7.354 0.0276  <-->  7.326  -  7.381\n",
    "#5 [0, 10, 7.5, 5, 0] 7.318 0.0275  <-->  7.291  -  7.346\n",
    "#7 [1, 10, 10, 10, 0] 7.31 0.0277  <-->  7.282  -  7.337"
   ]
  },
  {
   "cell_type": "code",
   "execution_count": 10,
   "id": "d0d8b34e",
   "metadata": {},
   "outputs": [],
   "source": [
    "win_averages = []\n",
    "win_stds = []\n",
    "win_errors = []\n",
    "for win in win_data:\n",
    "    win_averages.append(win[0])\n",
    "    win_stds.append(win[1])\n",
    "    win_errors.append(win[2])"
   ]
  },
  {
   "cell_type": "code",
   "execution_count": 11,
   "id": "b4787695",
   "metadata": {},
   "outputs": [],
   "source": [
    "stdev_averages = []\n",
    "stdev_stds = []\n",
    "stdev_errors = []\n",
    "for stdev in stdev_data:\n",
    "    stdev_averages.append(stdev[0])\n",
    "    stdev_stds.append(stdev[1])\n",
    "    stdev_errors.append(stdev[2])"
   ]
  },
  {
   "cell_type": "code",
   "execution_count": 12,
   "id": "17c09a35",
   "metadata": {},
   "outputs": [
    {
     "name": "stdout",
     "output_type": "stream",
     "text": [
      "21.915006421778063 0.10708246384246096\n",
      "15.2103472534303 0.08477570267273185\n",
      "16.418986514123485 0.08330403448770658\n",
      "17.957885942316455 0.082570717415026\n",
      "19.480932797157642 0.08758232776463426\n",
      "21.781383165100706 0.09574792182765507\n",
      "15.629925028396283 0.08976795817382\n",
      "13.687060319755307 0.06589713849537174\n",
      "14.736647638912821 0.08364109341070006\n",
      "14.072948662005137 0.08261498998746902\n",
      "13.682836146118154 0.09185016762984498\n",
      "14.127084552989043 0.08014547039543578\n"
     ]
    }
   ],
   "source": [
    "for (mean, error) in zip(stdev_averages, stdev_errors):\n",
    "    print(mean, error)"
   ]
  },
  {
   "cell_type": "code",
   "execution_count": null,
   "id": "867227b5",
   "metadata": {},
   "outputs": [],
   "source": []
  },
  {
   "cell_type": "code",
   "execution_count": null,
   "id": "e1d1e4e4",
   "metadata": {},
   "outputs": [],
   "source": []
  },
  {
   "cell_type": "code",
   "execution_count": null,
   "id": "40434e62",
   "metadata": {},
   "outputs": [],
   "source": []
  },
  {
   "cell_type": "code",
   "execution_count": 3,
   "id": "765c18cc",
   "metadata": {},
   "outputs": [],
   "source": [
    "ch1 = Chooser(5)\n",
    "ch2 = Chooser(5, [1,10,10,10,1])"
   ]
  },
  {
   "cell_type": "code",
   "execution_count": 5,
   "id": "b11bc7c8",
   "metadata": {},
   "outputs": [],
   "source": [
    "lol1 = Process(target=simulate_explore, args=[sem, out_lock, output_queue, 100,100,40, ch1, 15, 1.08])\n",
    "lol2 = Process(target=simulate_explore, args=[sem, out_lock, output_queue, 100,100,40, ch2, 15, 1.08])"
   ]
  },
  {
   "cell_type": "code",
   "execution_count": 6,
   "id": "d4cc395c",
   "metadata": {},
   "outputs": [],
   "source": [
    "lol1.start()\n",
    "lol2.start()"
   ]
  },
  {
   "cell_type": "code",
   "execution_count": 8,
   "id": "04ff928f",
   "metadata": {},
   "outputs": [],
   "source": [
    "lol1.join()\n",
    "lol2.join()"
   ]
  },
  {
   "cell_type": "code",
   "execution_count": 10,
   "id": "6a576950",
   "metadata": {},
   "outputs": [],
   "source": [
    "list = []\n",
    "if list:\n",
    "    print(\"hi\")"
   ]
  },
  {
   "cell_type": "code",
   "execution_count": null,
   "id": "dddab848",
   "metadata": {},
   "outputs": [],
   "source": []
  }
 ],
 "metadata": {
  "kernelspec": {
   "display_name": "Python 3 (ipykernel)",
   "language": "python",
   "name": "python3"
  },
  "language_info": {
   "codemirror_mode": {
    "name": "ipython",
    "version": 3
   },
   "file_extension": ".py",
   "mimetype": "text/x-python",
   "name": "python",
   "nbconvert_exporter": "python",
   "pygments_lexer": "ipython3",
   "version": "3.11.3"
  }
 },
 "nbformat": 4,
 "nbformat_minor": 5
}
