{
 "cells": [
  {
   "cell_type": "code",
   "execution_count": 1,
   "id": "86174fe3",
   "metadata": {},
   "outputs": [],
   "source": [
    "#fundamental tools for the game environment model\n",
    "import numpy as np\n",
    "from multiprocess import Process, Queue, Semaphore, Lock\n",
    "import time\n",
    "\n",
    "# for visualations\n",
    "import matplotlib.pyplot as plt"
   ]
  },
  {
   "cell_type": "code",
   "execution_count": 2,
   "id": "77b444a5",
   "metadata": {},
   "outputs": [
    {
     "name": "stdout",
     "output_type": "stream",
     "text": [
      "pygame 2.5.1 (SDL 2.28.2, Python 3.11.3)\n",
      "Hello from the pygame community. https://www.pygame.org/contribute.html\n"
     ]
    }
   ],
   "source": [
    "from randomchooser import Chooser\n",
    "from exploresims import simulate_explore, sim_1\n",
    "import explore"
   ]
  },
  {
   "cell_type": "code",
   "execution_count": 3,
   "id": "05bba587",
   "metadata": {},
   "outputs": [],
   "source": [
    "game = explore.ExploreGame()"
   ]
  },
  {
   "cell_type": "code",
   "execution_count": 4,
   "id": "cb5fb2ee",
   "metadata": {},
   "outputs": [
    {
     "data": {
      "image/png": "[encoded data removed]",
      "text/plain": [
       "<Figure size 640x480 with 1 Axes>"
      ]
     },
     "metadata": {},
     "output_type": "display_data"
    }
   ],
   "source": [
    "game.draw()"
   ]
  },
  {
   "cell_type": "code",
   "execution_count": 5,
   "id": "e5d9f508",
   "metadata": {},
   "outputs": [
    {
     "name": "stdout",
     "output_type": "stream",
     "text": [
      "True\n"
     ]
    },
    {
     "data": {
      "text/plain": [
       "<matplotlib.image.AxesImage at 0x24708d21890>"
      ]
     },
     "execution_count": 5,
     "metadata": {},
     "output_type": "execute_result"
    },
    {
     "data": {
      "image/png": "[encoded data removed]",
      "text/plain": [
       "<Figure size 640x480 with 1 Axes>"
      ]
     },
     "metadata": {},
     "output_type": "display_data"
    }
   ],
   "source": [
    "c, d = game.map_is_valid()\n",
    "print(c)\n",
    "plt.imshow(d)"
   ]
  },
  {
   "cell_type": "code",
   "execution_count": 6,
   "id": "6f55f8a7",
   "metadata": {},
   "outputs": [],
   "source": [
    "max_processes = 8\n",
    "sem = Semaphore(max_processes)\n",
    "out_lock = Lock()\n",
    "output_queue = Queue()\n",
    "pos_queue = Queue()"
   ]
  },
  {
   "cell_type": "code",
   "execution_count": 4,
   "id": "a4804314",
   "metadata": {},
   "outputs": [],
   "source": [
    "# make positions available\n",
    "num_cols = 3\n",
    "for i in range(max_processes):\n",
    "    x = 30 + (i%num_cols) * (610 + 30) \n",
    "    y = 40 + (i//num_cols)*(300 + 40)\n",
    "    pos_queue.put((x,y))"
   ]
  },
  {
   "cell_type": "code",
   "execution_count": 13,
   "id": "2c72824e",
   "metadata": {},
   "outputs": [],
   "source": [
    "choosers = []\n",
    "choosers.append(Chooser(5))\n",
    "for i in range(7, 13):\n",
    "    choosers.append(Chooser(5, [0,10,5,5,0], i))\n",
    "#for i in range(5,16):\n",
    "    #choosers.append(Chooser(5, [0,10,10,10,0], i))"
   ]
  },
  {
   "cell_type": "code",
   "execution_count": 6,
   "id": "238f559c",
   "metadata": {},
   "outputs": [],
   "source": [
    "if __name__ == '__main__':\n",
    "    sims = []\n",
    "    for ch in choosers:\n",
    "        curr_args = [sem, out_lock, output_queue, 1000,100, 80, ch, 21,\n",
    "                     300, 60, 1.28, True, pos_queue]\n",
    "        p = Process(target=simulate_explore, args=curr_args)\n",
    "        sims.append(p)\n",
    "        \n",
    "    for sim in sims:\n",
    "        sim.start()"
   ]
  },
  {
   "cell_type": "code",
   "execution_count": 7,
   "id": "64a30156",
   "metadata": {},
   "outputs": [],
   "source": []
  },
  {
   "cell_type": "code",
   "execution_count": 14,
   "id": "19918366",
   "metadata": {},
   "outputs": [],
   "source": [
    "out = sim_1(choosers, num_process=8, num_column=3)\n"
   ]
  },
  {
   "cell_type": "code",
   "execution_count": null,
   "id": "d6d967de",
   "metadata": {},
   "outputs": [],
   "source": []
  },
  {
   "cell_type": "code",
   "execution_count": 15,
   "id": "b1f03cfe",
   "metadata": {},
   "outputs": [],
   "source": [
    "results = out"
   ]
  },
  {
   "cell_type": "code",
   "execution_count": null,
   "id": "ce2f4b8b",
   "metadata": {},
   "outputs": [],
   "source": []
  },
  {
   "cell_type": "code",
   "execution_count": 7,
   "id": "c0a3d6ee",
   "metadata": {},
   "outputs": [],
   "source": [
    "results = []\n",
    "while not output_queue.empty():\n",
    "    results.append(output_queue.get())"
   ]
  },
  {
   "cell_type": "code",
   "execution_count": 16,
   "id": "8c8351f4",
   "metadata": {},
   "outputs": [
    {
     "data": {
      "text/plain": [
       "7"
      ]
     },
     "execution_count": 16,
     "metadata": {},
     "output_type": "execute_result"
    }
   ],
   "source": [
    "len(results)"
   ]
  },
  {
   "cell_type": "code",
   "execution_count": 17,
   "id": "0dd38b5e",
   "metadata": {},
   "outputs": [],
   "source": [
    "for k in range(len(results)):\n",
    "    max_winrate = 0\n",
    "    pos = 0\n",
    "    for i in range(k, len(results)):\n",
    "        if results[i][2][0] > max_winrate:\n",
    "            max_winrate = results[i][2][0]\n",
    "            pos = i\n",
    "    temp = results[k]\n",
    "    results[k] = results[pos]\n",
    "    results[pos] = temp"
   ]
  },
  {
   "cell_type": "code",
   "execution_count": 18,
   "id": "7effe7bc",
   "metadata": {},
   "outputs": [
    {
     "name": "stdout",
     "output_type": "stream",
     "text": [
      "7.33\n",
      "7.16\n",
      "7.15\n",
      "7.08\n",
      "7.01\n",
      "6.88\n",
      "6.48\n"
     ]
    }
   ],
   "source": [
    "for i in range(len(results)):\n",
    "    print(results[i][2][0])"
   ]
  },
  {
   "cell_type": "code",
   "execution_count": 19,
   "id": "7c64b262",
   "metadata": {},
   "outputs": [
    {
     "name": "stdout",
     "output_type": "stream",
     "text": [
      "[0, 10, 5, 5, 0] 10\n",
      "[0, 10, 5, 5, 0] 9\n",
      "[0, 10, 5, 5, 0] 7\n",
      "[0, 10, 5, 5, 0] 12\n",
      "[0, 10, 5, 5, 0] 8\n",
      "[0, 10, 5, 5, 0] 11\n"
     ]
    }
   ],
   "source": [
    "for i in range(6):\n",
    "    print(results[i][0], results[i][1])"
   ]
  },
  {
   "cell_type": "code",
   "execution_count": 20,
   "id": "6a4fb2ae",
   "metadata": {},
   "outputs": [],
   "source": [
    "for k in range(len(results)):\n",
    "    min_trace_stdev = results[k][3][0]\n",
    "    pos = k\n",
    "    for i in range(k,len(results)):\n",
    "        if results[i][3][0] < min_trace_stdev:\n",
    "            min_trace_stdev = results[i][3][0]\n",
    "            pos = i\n",
    "    temp = results[k]\n",
    "    results[k] = results[pos]\n",
    "    results[pos] = temp"
   ]
  },
  {
   "cell_type": "code",
   "execution_count": 21,
   "id": "55f45dcb",
   "metadata": {},
   "outputs": [
    {
     "name": "stdout",
     "output_type": "stream",
     "text": [
      "44.01568505059674\n",
      "44.68900300824288\n",
      "45.89650945397847\n",
      "47.151900854596086\n",
      "47.53043375930558\n",
      "49.51248572775437\n",
      "51.00086493163394\n"
     ]
    }
   ],
   "source": [
    "for i in range(len(results)):\n",
    "    print(results[i][3][0])"
   ]
  },
  {
   "cell_type": "code",
   "execution_count": 22,
   "id": "1183a4af",
   "metadata": {},
   "outputs": [
    {
     "name": "stdout",
     "output_type": "stream",
     "text": [
      "[0, 10, 5, 5, 0] 7\n",
      "[0, 10, 5, 5, 0] 11\n",
      "[0, 10, 5, 5, 0] 9\n",
      "[0, 10, 5, 5, 0] 10\n",
      "[0, 10, 5, 5, 0] 8\n",
      "[0, 10, 5, 5, 0] 12\n"
     ]
    }
   ],
   "source": [
    "for i in range(6):\n",
    "    print(results[i][0], results[i][1])"
   ]
  },
  {
   "cell_type": "code",
   "execution_count": null,
   "id": "eff635c3",
   "metadata": {},
   "outputs": [],
   "source": []
  },
  {
   "cell_type": "code",
   "execution_count": null,
   "id": "2f75256a",
   "metadata": {},
   "outputs": [],
   "source": []
  },
  {
   "cell_type": "code",
   "execution_count": null,
   "id": "660403a0",
   "metadata": {},
   "outputs": [],
   "source": []
  },
  {
   "cell_type": "code",
   "execution_count": 9,
   "id": "bf74536a",
   "metadata": {},
   "outputs": [],
   "source": [
    "weights = []\n",
    "durations = []\n",
    "win_data = []\n",
    "stdev_data = []\n",
    "trace_averages = []\n",
    "for result in results:\n",
    "    weights.append(result[0])\n",
    "    durations.append(result[1])\n",
    "    win_data.append(result[2])\n",
    "    stdev_data.append(result[3])\n",
    "    trace_averages.append(result[4])"
   ]
  },
  {
   "cell_type": "code",
   "execution_count": 10,
   "id": "d0d8b34e",
   "metadata": {},
   "outputs": [],
   "source": [
    "win_averages = []\n",
    "win_stds = []\n",
    "win_errors = []\n",
    "for win in win_data:\n",
    "    win_averages.append(win[0])\n",
    "    win_stds.append(win[1])\n",
    "    win_errors.append(win[2])"
   ]
  },
  {
   "cell_type": "code",
   "execution_count": 11,
   "id": "b4787695",
   "metadata": {},
   "outputs": [],
   "source": [
    "stdev_averages = []\n",
    "stdev_stds = []\n",
    "stdev_errors = []\n",
    "for stdev in stdev_data:\n",
    "    stdev_averages.append(stdev[0])\n",
    "    stdev_stds.append(stdev[1])\n",
    "    stdev_errors.append(stdev[2])"
   ]
  },
  {
   "cell_type": "code",
   "execution_count": 12,
   "id": "17c09a35",
   "metadata": {},
   "outputs": [
    {
     "name": "stdout",
     "output_type": "stream",
     "text": [
      "21.915006421778063 0.10708246384246096\n",
      "15.2103472534303 0.08477570267273185\n",
      "16.418986514123485 0.08330403448770658\n",
      "17.957885942316455 0.082570717415026\n",
      "19.480932797157642 0.08758232776463426\n",
      "21.781383165100706 0.09574792182765507\n",
      "15.629925028396283 0.08976795817382\n",
      "13.687060319755307 0.06589713849537174\n",
      "14.736647638912821 0.08364109341070006\n",
      "14.072948662005137 0.08261498998746902\n",
      "13.682836146118154 0.09185016762984498\n",
      "14.127084552989043 0.08014547039543578\n"
     ]
    }
   ],
   "source": [
    "for (mean, error) in zip(stdev_averages, stdev_errors):\n",
    "    print(mean, error)"
   ]
  },
  {
   "cell_type": "code",
   "execution_count": null,
   "id": "867227b5",
   "metadata": {},
   "outputs": [],
   "source": []
  },
  {
   "cell_type": "code",
   "execution_count": null,
   "id": "e1d1e4e4",
   "metadata": {},
   "outputs": [],
   "source": []
  },
  {
   "cell_type": "code",
   "execution_count": null,
   "id": "40434e62",
   "metadata": {},
   "outputs": [],
   "source": []
  },
  {
   "cell_type": "code",
   "execution_count": 3,
   "id": "765c18cc",
   "metadata": {},
   "outputs": [],
   "source": [
    "ch1 = Chooser(5)\n",
    "ch2 = Chooser(5, [1,10,10,10,1])"
   ]
  },
  {
   "cell_type": "code",
   "execution_count": 5,
   "id": "b11bc7c8",
   "metadata": {},
   "outputs": [],
   "source": [
    "lol1 = Process(target=simulate_explore, args=[sem, out_lock, output_queue, 100,100,40, ch1, 15, 1.08])\n",
    "lol2 = Process(target=simulate_explore, args=[sem, out_lock, output_queue, 100,100,40, ch2, 15, 1.08])"
   ]
  },
  {
   "cell_type": "code",
   "execution_count": 6,
   "id": "d4cc395c",
   "metadata": {},
   "outputs": [],
   "source": [
    "lol1.start()\n",
    "lol2.start()"
   ]
  },
  {
   "cell_type": "code",
   "execution_count": 8,
   "id": "04ff928f",
   "metadata": {},
   "outputs": [],
   "source": [
    "lol1.join()\n",
    "lol2.join()"
   ]
  },
  {
   "cell_type": "code",
   "execution_count": 10,
   "id": "6a576950",
   "metadata": {},
   "outputs": [],
   "source": [
    "list = []\n",
    "if list:\n",
    "    print(\"hi\")"
   ]
  },
  {
   "cell_type": "code",
   "execution_count": null,
   "id": "8e4e6058",
   "metadata": {},
   "outputs": [],
   "source": []
  }
 ],
 "metadata": {
  "kernelspec": {
   "display_name": "Python 3 (ipykernel)",
   "language": "python",
   "name": "python3"
  },
  "language_info": {
   "codemirror_mode": {
    "name": "ipython",
    "version": 3
   },
   "file_extension": ".py",
   "mimetype": "text/x-python",
   "name": "python",
   "nbconvert_exporter": "python",
   "pygments_lexer": "ipython3",
   "version": "3.11.3"
  }
 },
 "nbformat": 4,
 "nbformat_minor": 5
}
