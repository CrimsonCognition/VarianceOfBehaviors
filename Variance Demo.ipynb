{
 "cells": [
  {
   "cell_type": "code",
   "execution_count": 1,
   "id": "15ef1ac0",
   "metadata": {},
   "outputs": [],
   "source": [
    "#fundamental tools for the game environment model\n",
    "import numpy as np\n",
    "import math\n",
    "import random\n",
    "import itertools\n",
    "\n",
    "# for visualations\n",
    "import matplotlib\n",
    "import matplotlib.pyplot as plt"
   ]
  },
  {
   "cell_type": "code",
   "execution_count": 2,
   "id": "5ee1a014",
   "metadata": {},
   "outputs": [
    {
     "name": "stdout",
     "output_type": "stream",
     "text": [
      "pygame 2.5.1 (SDL 2.28.2, Python 3.11.3)\n",
      "Hello from the pygame community. https://www.pygame.org/contribute.html\n"
     ]
    }
   ],
   "source": [
    "import exploreModel\n",
    "import explore_Viewer\n",
    "from randomchooser import Chooser"
   ]
  },
  {
   "cell_type": "code",
   "execution_count": 3,
   "id": "983732c6",
   "metadata": {},
   "outputs": [],
   "source": [
    "import multiprocess\n",
    "from launch_async_viewer import launch_viewer"
   ]
  },
  {
   "cell_type": "code",
   "execution_count": 15,
   "id": "145903b2",
   "metadata": {},
   "outputs": [],
   "source": [
    "ch = Chooser(5, [10,10,10,10,10])"
   ]
  },
  {
   "cell_type": "code",
   "execution_count": 5,
   "id": "4d6add21",
   "metadata": {},
   "outputs": [],
   "source": [
    "for k in range(35):\n",
    "    ch.get_random_action()"
   ]
  },
  {
   "cell_type": "code",
   "execution_count": 6,
   "id": "02bb00df",
   "metadata": {},
   "outputs": [
    {
     "data": {
      "text/plain": [
       "array([4, 2, 1])"
      ]
     },
     "execution_count": 6,
     "metadata": {},
     "output_type": "execute_result"
    }
   ],
   "source": [
    "ch.move_pool"
   ]
  },
  {
   "cell_type": "code",
   "execution_count": 7,
   "id": "adb93eab",
   "metadata": {},
   "outputs": [
    {
     "data": {
      "text/plain": [
       "array([0.42857143, 0.28571429, 0.28571429])"
      ]
     },
     "execution_count": 7,
     "metadata": {},
     "output_type": "execute_result"
    }
   ],
   "source": [
    "ch.hist"
   ]
  },
  {
   "cell_type": "code",
   "execution_count": 8,
   "id": "d2aada94",
   "metadata": {},
   "outputs": [],
   "source": [
    "env = exploreModel.exploreGame()\n",
    "qq = multiprocess.Queue()"
   ]
  },
  {
   "cell_type": "code",
   "execution_count": 9,
   "id": "f800f63f",
   "metadata": {},
   "outputs": [],
   "source": [
    "emap = env.generate_frame()\n",
    "hmap = env.get_trace()"
   ]
  },
  {
   "cell_type": "code",
   "execution_count": 10,
   "id": "25b9a028",
   "metadata": {},
   "outputs": [],
   "source": [
    "qq.put((emap, hmap))"
   ]
  },
  {
   "cell_type": "code",
   "execution_count": 11,
   "id": "8894c83e",
   "metadata": {},
   "outputs": [],
   "source": [
    "p = multiprocess.Process(target=launch_viewer, args=[qq])"
   ]
  },
  {
   "cell_type": "code",
   "execution_count": 12,
   "id": "9c92688a",
   "metadata": {},
   "outputs": [],
   "source": [
    "p.start()"
   ]
  },
  {
   "cell_type": "code",
   "execution_count": 16,
   "id": "2be99b2a",
   "metadata": {},
   "outputs": [],
   "source": [
    "for k in range(1000000):\n",
    "    env.update(ch.get_random_action())\n",
    "    emap = env.generate_frame()\n",
    "    hmap = env.get_trace()\n",
    "\n",
    "    if qq.empty():\n",
    "        qq.put((emap, hmap))\n",
    "    \n",
    "    if k % 150 == 149:\n",
    "        env.soft_reset()"
   ]
  },
  {
   "cell_type": "code",
   "execution_count": 10,
   "id": "23e5f498",
   "metadata": {},
   "outputs": [],
   "source": [
    "qq.put(\"kill\")"
   ]
  },
  {
   "cell_type": "code",
   "execution_count": null,
   "id": "13b4377a",
   "metadata": {},
   "outputs": [],
   "source": []
  }
 ],
 "metadata": {
  "kernelspec": {
   "display_name": "Python 3 (ipykernel)",
   "language": "python",
   "name": "python3"
  },
  "language_info": {
   "codemirror_mode": {
    "name": "ipython",
    "version": 3
   },
   "file_extension": ".py",
   "mimetype": "text/x-python",
   "name": "python",
   "nbconvert_exporter": "python",
   "pygments_lexer": "ipython3",
   "version": "3.11.3"
  }
 },
 "nbformat": 4,
 "nbformat_minor": 5
}
