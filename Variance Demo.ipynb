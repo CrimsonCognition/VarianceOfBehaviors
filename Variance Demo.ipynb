{
 "cells": [
  {
   "cell_type": "code",
   "execution_count": 1,
   "id": "86174fe3",
   "metadata": {},
   "outputs": [],
   "source": [
    "#fundamental tools for the game environment model\n",
    "import numpy as np\n",
    "from multiprocess import Process, Queue, Semaphore, Lock\n",
    "import time\n",
    "\n",
    "# for visualations\n",
    "import matplotlib.pyplot as plt"
   ]
  },
  {
   "cell_type": "code",
   "execution_count": 2,
   "id": "77b444a5",
   "metadata": {},
   "outputs": [
    {
     "name": "stdout",
     "output_type": "stream",
     "text": [
      "pygame 2.5.1 (SDL 2.28.2, Python 3.11.3)\n",
      "Hello from the pygame community. https://www.pygame.org/contribute.html\n"
     ]
    }
   ],
   "source": [
    "from randomchooser import Chooser\n",
    "from exploresims import simulate_explore, sim_1\n",
    "import explore"
   ]
  },
  {
   "cell_type": "code",
   "execution_count": 3,
   "id": "e3c84e46",
   "metadata": {},
   "outputs": [],
   "source": [
    "g = explore.ExploreGame()"
   ]
  },
  {
   "cell_type": "code",
   "execution_count": 4,
   "id": "ad480c7a",
   "metadata": {},
   "outputs": [
    {
     "data": {
      "image/png": "[encoded data removed]",
      "text/plain": [
       "<Figure size 640x480 with 1 Axes>"
      ]
     },
     "metadata": {},
     "output_type": "display_data"
    }
   ],
   "source": [
    "g.hard_reset()\n",
    "g.draw()"
   ]
  },
  {
   "cell_type": "code",
   "execution_count": 5,
   "id": "2c72824e",
   "metadata": {},
   "outputs": [
    {
     "data": {
      "text/plain": [
       "5"
      ]
     },
     "execution_count": 5,
     "metadata": {},
     "output_type": "execute_result"
    }
   ],
   "source": [
    "choosers = []\n",
    "choosers.append(Chooser(5))\n",
    "if False:\n",
    "    for i in range(3, 13):\n",
    "        choosers.append(Chooser(5, [0,10,7.5,5,0], i))\n",
    "    for i in range(3, 13):\n",
    "        choosers.append(Chooser(5, [10,10,10,10,10], i))\n",
    "    for i in range(3, 13):\n",
    "        choosers.append(Chooser(5, [1,10,10,10,0], i))\n",
    "else:\n",
    "    choosers.append(Chooser(5, [0, 10, 7.5, 5, 0], 6))\n",
    "    choosers.append(Chooser(5, [0, 10, 7.5, 5, 0], 4))\n",
    "    choosers.append(Chooser(5, [0, 10, 7.5, 5, 0], 5))\n",
    "    choosers.append(Chooser(5, [1, 10, 10, 10, 0], 7))\n",
    "len(choosers)"
   ]
  },
  {
   "cell_type": "code",
   "execution_count": 6,
   "id": "19918366",
   "metadata": {},
   "outputs": [],
   "source": [
    "out = sim_1(choosers, samples=100, games=10, num_process=8, num_column=3)"
   ]
  },
  {
   "cell_type": "code",
   "execution_count": 7,
   "id": "b1f03cfe",
   "metadata": {},
   "outputs": [],
   "source": [
    "results = out"
   ]
  },
  {
   "cell_type": "code",
   "execution_count": 8,
   "id": "0dd38b5e",
   "metadata": {},
   "outputs": [],
   "source": [
    "for k in range(len(results)):\n",
    "    max_winrate = 0\n",
    "    pos = 0\n",
    "    for i in range(k, len(results)):\n",
    "        if results[i][2][0] > max_winrate:\n",
    "            max_winrate = results[i][2][0]\n",
    "            pos = i\n",
    "    temp = results[k]\n",
    "    results[k] = results[pos]\n",
    "    results[pos] = temp"
   ]
  },
  {
   "cell_type": "code",
   "execution_count": 9,
   "id": "7effe7bc",
   "metadata": {},
   "outputs": [
    {
     "name": "stdout",
     "output_type": "stream",
     "text": [
      "0.18\n",
      "0.17\n",
      "0.14\n",
      "0.11\n",
      "0.04\n"
     ]
    }
   ],
   "source": [
    "for i in range(len(results)):\n",
    "    print(results[i][2][0])"
   ]
  },
  {
   "cell_type": "code",
   "execution_count": 10,
   "id": "bf74536a",
   "metadata": {},
   "outputs": [],
   "source": [
    "weights = []\n",
    "durations = []\n",
    "win_data = []\n",
    "stdev_data = []\n",
    "trace_averages = []\n",
    "for result in results:\n",
    "    weights.append(result[0])\n",
    "    durations.append(result[1])\n",
    "    win_data.append(result[2])\n",
    "    stdev_data.append(result[3])\n",
    "    trace_averages.append(result[4])"
   ]
  },
  {
   "cell_type": "code",
   "execution_count": 11,
   "id": "2a53d9ee",
   "metadata": {},
   "outputs": [
    {
     "name": "stdout",
     "output_type": "stream",
     "text": [
      "6 [0, 10, 7.5, 5, 0] 0.18 0.0409  <-->  0.1391  -  0.2209\n",
      "5 [0, 10, 7.5, 5, 0] 0.17 0.0448  <-->  0.1252  -  0.2148\n",
      "7 [1, 10, 10, 10, 0] 0.14 0.0347  <-->  0.1053  -  0.1747\n",
      "4 [0, 10, 7.5, 5, 0] 0.11 0.0313  <-->  0.07871  -  0.1413\n",
      "-1 None 0.04 0.0196  <-->  0.0204  -  0.0596\n"
     ]
    }
   ],
   "source": [
    "for (w, d, r) in zip(weights, durations, win_data):\n",
    "    print(d, w, f\"{r[0]:.4}\", f\"{r[2]:.3}\", \" <--> \", f\"{r[0] - r[2]:.4}\", \" - \", f\"{r[0] + r[2]:.4}\")"
   ]
  },
  {
   "cell_type": "code",
   "execution_count": null,
   "id": "ce2f4b8b",
   "metadata": {},
   "outputs": [],
   "source": []
  },
  {
   "cell_type": "code",
   "execution_count": 13,
   "id": "eff635c3",
   "metadata": {},
   "outputs": [
    {
     "data": {
      "text/plain": [
       "<matplotlib.image.AxesImage at 0x1f4e6cd3a10>"
      ]
     },
     "execution_count": 13,
     "metadata": {},
     "output_type": "execute_result"
    },
    {
     "data": {
      "image/png": "[encoded data removed]",
      "text/plain": [
       "<Figure size 640x480 with 1 Axes>"
      ]
     },
     "metadata": {},
     "output_type": "display_data"
    }
   ],
   "source": [
    "temp = np.hstack([trace_averages[-2], trace_averages[0]])\n",
    "plt.imshow(temp)"
   ]
  },
  {
   "cell_type": "code",
   "execution_count": 43,
   "id": "ce1b9803",
   "metadata": {},
   "outputs": [
    {
     "data": {
      "text/plain": [
       "1.4395645161290322"
      ]
     },
     "execution_count": 43,
     "metadata": {},
     "output_type": "execute_result"
    }
   ],
   "source": [
    "mins = np.zeros(len(trace_averages))\n",
    "for i in range(len(trace_averages)):\n",
    "    mins[i] = trace_averages[i].min()\n",
    "mins.mean()"
   ]
  },
  {
   "cell_type": "code",
   "execution_count": 44,
   "id": "7a595fa2",
   "metadata": {},
   "outputs": [
    {
     "data": {
      "text/plain": [
       "0.5024933281844916"
      ]
     },
     "execution_count": 44,
     "metadata": {},
     "output_type": "execute_result"
    }
   ],
   "source": [
    "mins.std()"
   ]
  },
  {
   "cell_type": "code",
   "execution_count": null,
   "id": "e4d80f6b",
   "metadata": {},
   "outputs": [],
   "source": []
  },
  {
   "cell_type": "code",
   "execution_count": 38,
   "id": "2f75256a",
   "metadata": {},
   "outputs": [
    {
     "data": {
      "text/plain": [
       "524.6467"
      ]
     },
     "execution_count": 38,
     "metadata": {},
     "output_type": "execute_result"
    }
   ],
   "source": [
    "trace_averages[-1].max()"
   ]
  },
  {
   "cell_type": "code",
   "execution_count": 39,
   "id": "660403a0",
   "metadata": {},
   "outputs": [
    {
     "data": {
      "text/plain": [
       "489.7545"
      ]
     },
     "execution_count": 39,
     "metadata": {},
     "output_type": "execute_result"
    }
   ],
   "source": [
    "trace_averages[0].max()"
   ]
  },
  {
   "cell_type": "code",
   "execution_count": null,
   "id": "60d0b63a",
   "metadata": {},
   "outputs": [],
   "source": [
    "#6 [0, 10, 7.5, 5, 0] 7.37 0.0274  <-->  7.343  -  7.398\n",
    "#4 [0, 10, 7.5, 5, 0] 7.354 0.0276  <-->  7.326  -  7.381\n",
    "#5 [0, 10, 7.5, 5, 0] 7.318 0.0275  <-->  7.291  -  7.346\n",
    "#7 [1, 10, 10, 10, 0] 7.31 0.0277  <-->  7.282  -  7.337"
   ]
  },
  {
   "cell_type": "code",
   "execution_count": 10,
   "id": "d0d8b34e",
   "metadata": {},
   "outputs": [],
   "source": [
    "win_averages = []\n",
    "win_stds = []\n",
    "win_errors = []\n",
    "for win in win_data:\n",
    "    win_averages.append(win[0])\n",
    "    win_stds.append(win[1])\n",
    "    win_errors.append(win[2])"
   ]
  },
  {
   "cell_type": "code",
   "execution_count": 11,
   "id": "b4787695",
   "metadata": {},
   "outputs": [],
   "source": [
    "stdev_averages = []\n",
    "stdev_stds = []\n",
    "stdev_errors = []\n",
    "for stdev in stdev_data:\n",
    "    stdev_averages.append(stdev[0])\n",
    "    stdev_stds.append(stdev[1])\n",
    "    stdev_errors.append(stdev[2])"
   ]
  },
  {
   "cell_type": "code",
   "execution_count": 12,
   "id": "17c09a35",
   "metadata": {},
   "outputs": [
    {
     "name": "stdout",
     "output_type": "stream",
     "text": [
      "21.915006421778063 0.10708246384246096\n",
      "15.2103472534303 0.08477570267273185\n",
      "16.418986514123485 0.08330403448770658\n",
      "17.957885942316455 0.082570717415026\n",
      "19.480932797157642 0.08758232776463426\n",
      "21.781383165100706 0.09574792182765507\n",
      "15.629925028396283 0.08976795817382\n",
      "13.687060319755307 0.06589713849537174\n",
      "14.736647638912821 0.08364109341070006\n",
      "14.072948662005137 0.08261498998746902\n",
      "13.682836146118154 0.09185016762984498\n",
      "14.127084552989043 0.08014547039543578\n"
     ]
    }
   ],
   "source": [
    "for (mean, error) in zip(stdev_averages, stdev_errors):\n",
    "    print(mean, error)"
   ]
  },
  {
   "cell_type": "code",
   "execution_count": null,
   "id": "867227b5",
   "metadata": {},
   "outputs": [],
   "source": []
  },
  {
   "cell_type": "code",
   "execution_count": null,
   "id": "e1d1e4e4",
   "metadata": {},
   "outputs": [],
   "source": []
  },
  {
   "cell_type": "code",
   "execution_count": null,
   "id": "40434e62",
   "metadata": {},
   "outputs": [],
   "source": []
  },
  {
   "cell_type": "code",
   "execution_count": 3,
   "id": "765c18cc",
   "metadata": {},
   "outputs": [],
   "source": [
    "ch1 = Chooser(5)\n",
    "ch2 = Chooser(5, [1,10,10,10,1])"
   ]
  },
  {
   "cell_type": "code",
   "execution_count": 5,
   "id": "b11bc7c8",
   "metadata": {},
   "outputs": [],
   "source": [
    "lol1 = Process(target=simulate_explore, args=[sem, out_lock, output_queue, 100,100,40, ch1, 15, 1.08])\n",
    "lol2 = Process(target=simulate_explore, args=[sem, out_lock, output_queue, 100,100,40, ch2, 15, 1.08])"
   ]
  },
  {
   "cell_type": "code",
   "execution_count": 6,
   "id": "d4cc395c",
   "metadata": {},
   "outputs": [],
   "source": [
    "lol1.start()\n",
    "lol2.start()"
   ]
  },
  {
   "cell_type": "code",
   "execution_count": 8,
   "id": "04ff928f",
   "metadata": {},
   "outputs": [],
   "source": [
    "lol1.join()\n",
    "lol2.join()"
   ]
  },
  {
   "cell_type": "code",
   "execution_count": 10,
   "id": "6a576950",
   "metadata": {},
   "outputs": [],
   "source": [
    "list = []\n",
    "if list:\n",
    "    print(\"hi\")"
   ]
  },
  {
   "cell_type": "code",
   "execution_count": null,
   "id": "dddab848",
   "metadata": {},
   "outputs": [],
   "source": []
  }
 ],
 "metadata": {
  "kernelspec": {
   "display_name": "Python 3 (ipykernel)",
   "language": "python",
   "name": "python3"
  },
  "language_info": {
   "codemirror_mode": {
    "name": "ipython",
    "version": 3
   },
   "file_extension": ".py",
   "mimetype": "text/x-python",
   "name": "python",
   "nbconvert_exporter": "python",
   "pygments_lexer": "ipython3",
   "version": "3.11.3"
  }
 },
 "nbformat": 4,
 "nbformat_minor": 5
}
