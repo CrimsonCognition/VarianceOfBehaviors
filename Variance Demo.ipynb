{
 "cells": [
  {
   "cell_type": "code",
   "execution_count": 1,
   "id": "ddee07df",
   "metadata": {},
   "outputs": [],
   "source": [
    "#fundamental tools for the game environment model\n",
    "import numpy as np\n",
    "import math\n",
    "import random\n",
    "import itertools\n",
    "\n",
    "# for visualations\n",
    "import matplotlib\n",
    "import matplotlib.pyplot as plt"
   ]
  },
  {
   "cell_type": "code",
   "execution_count": 2,
   "id": "81866a92",
   "metadata": {},
   "outputs": [],
   "source": [
    "import exploreModel"
   ]
  },
  {
   "cell_type": "code",
   "execution_count": 3,
   "id": "2b16db3a",
   "metadata": {},
   "outputs": [
    {
     "name": "stdout",
     "output_type": "stream",
     "text": [
      "pygame 2.5.1 (SDL 2.28.2, Python 3.11.3)\n",
      "Hello from the pygame community. https://www.pygame.org/contribute.html\n"
     ]
    },
    {
     "data": {
      "text/plain": [
       "(5, 0)"
      ]
     },
     "execution_count": 3,
     "metadata": {},
     "output_type": "execute_result"
    }
   ],
   "source": [
    "import pygame\n",
    "pygame.init()"
   ]
  },
  {
   "cell_type": "code",
   "execution_count": 4,
   "id": "4b7eac67",
   "metadata": {},
   "outputs": [],
   "source": [
    "test = np.arange(100).reshape(10,10)\n",
    "test = test/test.max()*255\n",
    "test = test.astype(\"int\")"
   ]
  },
  {
   "cell_type": "code",
   "execution_count": 5,
   "id": "2b9362a0",
   "metadata": {},
   "outputs": [],
   "source": [
    "env = exploreModel.exploreGame()"
   ]
  },
  {
   "cell_type": "code",
   "execution_count": 6,
   "id": "d90a955d",
   "metadata": {},
   "outputs": [],
   "source": [
    "fr = env.generate_frame()"
   ]
  },
  {
   "cell_type": "code",
   "execution_count": 7,
   "id": "e973f1e3",
   "metadata": {},
   "outputs": [
    {
     "data": {
      "text/plain": [
       "array([[  0., 255.,   0.],\n",
       "       [  0.,   0.,   0.],\n",
       "       [  0.,   0.,   0.],\n",
       "       ...,\n",
       "       [  0.,   0.,   0.],\n",
       "       [  0.,   0.,   0.],\n",
       "       [  0.,   0.,   0.]])"
      ]
     },
     "execution_count": 7,
     "metadata": {},
     "output_type": "execute_result"
    }
   ],
   "source": [
    "fr.reshape(-1,3)"
   ]
  },
  {
   "cell_type": "code",
   "execution_count": 8,
   "id": "d50ecf49",
   "metadata": {},
   "outputs": [
    {
     "ename": "KeyboardInterrupt",
     "evalue": "",
     "output_type": "error",
     "traceback": [
      "\u001b[1;31m---------------------------------------------------------------------------\u001b[0m",
      "\u001b[1;31mKeyboardInterrupt\u001b[0m                         Traceback (most recent call last)",
      "Cell \u001b[1;32mIn[8], line 53\u001b[0m\n\u001b[0;32m     51\u001b[0m     heatmap \u001b[38;5;241m=\u001b[39m heatmap\u001b[38;5;241m/\u001b[39mheatmap\u001b[38;5;241m.\u001b[39mmax()\u001b[38;5;241m*\u001b[39m\u001b[38;5;241m255\u001b[39m\n\u001b[0;32m     52\u001b[0m     pygame\u001b[38;5;241m.\u001b[39mdisplay\u001b[38;5;241m.\u001b[39mupdate()\n\u001b[1;32m---> 53\u001b[0m     pygame\u001b[38;5;241m.\u001b[39mtime\u001b[38;5;241m.\u001b[39mwait((\u001b[38;5;241m1000\u001b[39m\u001b[38;5;241m/\u001b[39m\u001b[38;5;241m/\u001b[39m\u001b[38;5;241m30\u001b[39m))\n\u001b[0;32m     55\u001b[0m pygame\u001b[38;5;241m.\u001b[39mquit()\n",
      "\u001b[1;31mKeyboardInterrupt\u001b[0m: "
     ]
    }
   ],
   "source": [
    "screen_width = 810\n",
    "screen_height = 400\n",
    "\n",
    "size = 21\n",
    "\n",
    "grid_width = 6 # keep me even\n",
    "\n",
    "rect_width = (screen_height - (size+1)*grid_width)/size\n",
    "\n",
    "background = pygame.Rect(0,0,screen_width,screen_height)\n",
    "background_color = (32,32, 32)\n",
    "\n",
    "boundary_width = 10\n",
    "zone_boundary = pygame.Rect(screen_width//2 - boundary_width//2, 0,boundary_width, screen_height)\n",
    "boundary_color = (255,255, 0)\n",
    "\n",
    "\n",
    "env_rects = []\n",
    "env_colors = fr.copy().reshape(-1,3)\n",
    "for i in range(size**2):\n",
    "    env_rects.append(pygame.Rect((i%size)*(rect_width+grid_width) + grid_width, (i//size)*(rect_width+grid_width) + grid_width,rect_width,rect_width))\n",
    "\n",
    "\n",
    "heatmap_rects = []\n",
    "heatmap = env.get_trace().flatten()\n",
    "heatmap = heatmap/heatmap.max()*255\n",
    "for i in range(size**2):\n",
    "    heatmap_rects.append(pygame.Rect((i%size)*(rect_width+grid_width) + grid_width + screen_width//2 + boundary_width//2\n",
    "                                     , (i//size)*(rect_width+grid_width) + grid_width,rect_width,rect_width))\n",
    "    \n",
    "screen = pygame.display.set_mode((screen_width, screen_height))\n",
    "\n",
    "run = True\n",
    "while run:\n",
    "    \n",
    "    pygame.draw.rect(screen, background_color, background)\n",
    "    pygame.draw.rect(screen, boundary_color, zone_boundary)\n",
    "    for (rect, color) in zip(env_rects, env_colors):\n",
    "        pygame.draw.rect(screen, (color[0], color[1], color[2]), rect)\n",
    "    \n",
    "    for (rect, intensity) in zip(heatmap_rects, heatmap):\n",
    "        pygame.draw.rect(screen, (intensity, intensity, intensity), rect)\n",
    "    \n",
    "    for event in pygame.event.get():\n",
    "        if event.type == pygame.QUIT:\n",
    "            run = False\n",
    "            \n",
    "    env.update(np.random.choice(5))\n",
    "    env_colors = env.generate_frame().reshape(-1,3)\n",
    "    heatmap = env.get_trace().flatten()\n",
    "    heatmap = heatmap/heatmap.max()*255\n",
    "    pygame.display.update()\n",
    "    pygame.time.wait((1000//30))\n",
    "    \n",
    "pygame.quit()"
   ]
  },
  {
   "cell_type": "code",
   "execution_count": null,
   "id": "1934d09b",
   "metadata": {},
   "outputs": [],
   "source": []
  }
 ],
 "metadata": {
  "kernelspec": {
   "display_name": "Python 3 (ipykernel)",
   "language": "python",
   "name": "python3"
  },
  "language_info": {
   "codemirror_mode": {
    "name": "ipython",
    "version": 3
   },
   "file_extension": ".py",
   "mimetype": "text/x-python",
   "name": "python",
   "nbconvert_exporter": "python",
   "pygments_lexer": "ipython3",
   "version": "3.11.3"
  }
 },
 "nbformat": 4,
 "nbformat_minor": 5
}
