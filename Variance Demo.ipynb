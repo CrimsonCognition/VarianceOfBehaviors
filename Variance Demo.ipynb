{
 "cells": [
  {
   "cell_type": "code",
   "execution_count": 1,
   "id": "9f6cb3e2",
   "metadata": {},
   "outputs": [],
   "source": [
    "#fundamental tools for the game environment model\n",
    "import numpy as np\n",
    "import math\n",
    "import random\n",
    "import itertools\n",
    "\n",
    "# for visualations\n",
    "import matplotlib\n",
    "import matplotlib.pyplot as plt"
   ]
  },
  {
   "cell_type": "code",
   "execution_count": 2,
   "id": "3d897ada",
   "metadata": {},
   "outputs": [],
   "source": [
    "import exploreModel"
   ]
  },
  {
   "cell_type": "code",
   "execution_count": 3,
   "id": "657d6e0a",
   "metadata": {},
   "outputs": [
    {
     "name": "stdout",
     "output_type": "stream",
     "text": [
      "pygame 2.5.1 (SDL 2.28.2, Python 3.11.3)\n",
      "Hello from the pygame community. https://www.pygame.org/contribute.html\n"
     ]
    },
    {
     "data": {
      "text/plain": [
       "(5, 0)"
      ]
     },
     "execution_count": 3,
     "metadata": {},
     "output_type": "execute_result"
    }
   ],
   "source": [
    "import pygame\n",
    "pygame.init()"
   ]
  },
  {
   "cell_type": "code",
   "execution_count": 4,
   "id": "c7f550ad",
   "metadata": {},
   "outputs": [],
   "source": [
    "test = np.arange(100).reshape(10,10)\n",
    "test = test/test.max()*255\n",
    "test = test.astype(\"int\")"
   ]
  },
  {
   "cell_type": "code",
   "execution_count": 5,
   "id": "c4649678",
   "metadata": {},
   "outputs": [],
   "source": [
    "env = exploreModel.exploreGame()"
   ]
  },
  {
   "cell_type": "code",
   "execution_count": 6,
   "id": "b3a138f5",
   "metadata": {},
   "outputs": [],
   "source": [
    "fr = env.generate_frame()"
   ]
  },
  {
   "cell_type": "code",
   "execution_count": 7,
   "id": "ae861ebc",
   "metadata": {},
   "outputs": [
    {
     "data": {
      "text/plain": [
       "array([[  0., 255.,   0.],\n",
       "       [  0.,   0.,   0.],\n",
       "       [  0.,   0.,   0.],\n",
       "       ...,\n",
       "       [  0.,   0.,   0.],\n",
       "       [  0.,   0.,   0.],\n",
       "       [  0.,   0.,   0.]])"
      ]
     },
     "execution_count": 7,
     "metadata": {},
     "output_type": "execute_result"
    }
   ],
   "source": [
    "fr.reshape(-1,3)"
   ]
  },
  {
   "cell_type": "code",
   "execution_count": 9,
   "id": "c82fc63b",
   "metadata": {},
   "outputs": [],
   "source": [
    "screen_width = 810\n",
    "screen_height = 400\n",
    "\n",
    "size = 21\n",
    "\n",
    "grid_width = 6 # keep me even\n",
    "\n",
    "rect_width = (screen_height - (size+1)*grid_width)/size\n",
    "\n",
    "background = pygame.Rect(0,0,screen_width,screen_height)\n",
    "background_color = (32,32, 32)\n",
    "\n",
    "boundary_width = 10\n",
    "zone_boundary = pygame.Rect(screen_width//2 - boundary_width//2, 0,boundary_width, screen_height)\n",
    "boundary_color = (255,255, 0)\n",
    "\n",
    "\n",
    "env_rects = []\n",
    "env_colors = fr.copy().reshape(-1,3)\n",
    "for i in range(size**2):\n",
    "    env_rects.append(pygame.Rect((i%size)*(rect_width+grid_width) + grid_width, (i//size)*(rect_width+grid_width) + grid_width,rect_width,rect_width))\n",
    "\n",
    "\n",
    "heatmap_rects = []\n",
    "heatmap = test.copy().flatten()\n",
    "for i in range(size**2):\n",
    "    heatmap_rects.append(pygame.Rect((i%size)*(rect_width+grid_width) + grid_width + screen_width//2 + boundary_width//2\n",
    "                                     , (i//size)*(rect_width+grid_width) + grid_width,rect_width,rect_width))\n",
    "    \n",
    "screen = pygame.display.set_mode((screen_width, screen_height))\n",
    "\n",
    "run = True\n",
    "while run:\n",
    "    \n",
    "    pygame.draw.rect(screen, background_color, background)\n",
    "    pygame.draw.rect(screen, boundary_color, zone_boundary)\n",
    "    for (rect, color) in zip(env_rects, env_colors):\n",
    "        pygame.draw.rect(screen, (color[0], color[1], color[2]), rect)\n",
    "    \n",
    "    for rect in heatmap_rects:\n",
    "        pygame.draw.rect(screen, (255, 255, 255), rect)\n",
    "    \n",
    "    for event in pygame.event.get():\n",
    "        if event.type == pygame.QUIT:\n",
    "            run = False\n",
    "            \n",
    "    env.update(np.random.choice(5))\n",
    "    env_colors = env.generate_frame().reshape(-1,3)\n",
    "    pygame.display.update()\n",
    "    pygame.time.wait((1000//30))\n",
    "    \n",
    "pygame.quit()"
   ]
  },
  {
   "cell_type": "code",
   "execution_count": null,
   "id": "0312c2e2",
   "metadata": {},
   "outputs": [],
   "source": []
  }
 ],
 "metadata": {
  "kernelspec": {
   "display_name": "Python 3 (ipykernel)",
   "language": "python",
   "name": "python3"
  },
  "language_info": {
   "codemirror_mode": {
    "name": "ipython",
    "version": 3
   },
   "file_extension": ".py",
   "mimetype": "text/x-python",
   "name": "python",
   "nbconvert_exporter": "python",
   "pygments_lexer": "ipython3",
   "version": "3.11.3"
  }
 },
 "nbformat": 4,
 "nbformat_minor": 5
}
