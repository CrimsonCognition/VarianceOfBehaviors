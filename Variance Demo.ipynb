{
 "cells": [
  {
   "cell_type": "code",
   "execution_count": 1,
   "id": "db1fe0e9",
   "metadata": {},
   "outputs": [],
   "source": [
    "#fundamental tools for the game environment model\n",
    "import numpy as np\n",
    "import math\n",
    "import random\n",
    "import itertools\n",
    "\n",
    "# for visualations\n",
    "import matplotlib\n",
    "import matplotlib.pyplot as plt"
   ]
  },
  {
   "cell_type": "code",
   "execution_count": 2,
   "id": "a0ef2f22",
   "metadata": {},
   "outputs": [
    {
     "name": "stdout",
     "output_type": "stream",
     "text": [
      "pygame 2.5.1 (SDL 2.28.2, Python 3.11.3)\n",
      "Hello from the pygame community. https://www.pygame.org/contribute.html\n"
     ]
    }
   ],
   "source": [
    "import exploreModel\n",
    "import explore_Viewer"
   ]
  },
  {
   "cell_type": "code",
   "execution_count": 3,
   "id": "276b2a8f",
   "metadata": {},
   "outputs": [],
   "source": [
    "test = np.arange(100).reshape(10,10)\n",
    "test = test/test.max()*255\n",
    "test = test.astype(\"int\")"
   ]
  },
  {
   "cell_type": "code",
   "execution_count": 4,
   "id": "68ec33b6",
   "metadata": {},
   "outputs": [],
   "source": [
    "env = exploreModel.exploreGame()"
   ]
  },
  {
   "cell_type": "code",
   "execution_count": 5,
   "id": "21c59823",
   "metadata": {},
   "outputs": [],
   "source": [
    "fr = env.generate_frame()"
   ]
  },
  {
   "cell_type": "code",
   "execution_count": 6,
   "id": "aed42fa6",
   "metadata": {},
   "outputs": [
    {
     "data": {
      "text/plain": [
       "array([[  0., 255.,   0.],\n",
       "       [  0.,   0.,   0.],\n",
       "       [  0.,   0.,   0.],\n",
       "       ...,\n",
       "       [  0.,   0.,   0.],\n",
       "       [  0.,   0.,   0.],\n",
       "       [  0.,   0.,   0.]])"
      ]
     },
     "execution_count": 6,
     "metadata": {},
     "output_type": "execute_result"
    }
   ],
   "source": [
    "fr.reshape(-1,3)"
   ]
  },
  {
   "cell_type": "code",
   "execution_count": 7,
   "id": "b368a05d",
   "metadata": {},
   "outputs": [],
   "source": [
    "viewer = explore_Viewer.exploreViewer(env.generate_frame(), env.get_trace())"
   ]
  },
  {
   "cell_type": "code",
   "execution_count": 8,
   "id": "d57a2d8f",
   "metadata": {},
   "outputs": [],
   "source": [
    "viewer.start()"
   ]
  },
  {
   "cell_type": "code",
   "execution_count": null,
   "id": "1a753159",
   "metadata": {},
   "outputs": [],
   "source": []
  }
 ],
 "metadata": {
  "kernelspec": {
   "display_name": "Python 3 (ipykernel)",
   "language": "python",
   "name": "python3"
  },
  "language_info": {
   "codemirror_mode": {
    "name": "ipython",
    "version": 3
   },
   "file_extension": ".py",
   "mimetype": "text/x-python",
   "name": "python",
   "nbconvert_exporter": "python",
   "pygments_lexer": "ipython3",
   "version": "3.11.3"
  }
 },
 "nbformat": 4,
 "nbformat_minor": 5
}
